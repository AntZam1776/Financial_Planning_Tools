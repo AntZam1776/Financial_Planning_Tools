{
 "cells": [
  {
   "cell_type": "markdown",
   "metadata": {},
   "source": [
    "# Financial Planning with APIs and Simulations\n",
    "\n",
    "In this Challenge, you’ll create two financial analysis tools by using a single Jupyter notebook:\n",
    "\n",
    "Part 1: A financial planner for emergencies. The members will be able to use this tool to visualize their current savings. The members can then determine if they have enough reserves for an emergency fund.\n",
    "\n",
    "Part 2: A financial planner for retirement. This tool will forecast the performance of their retirement portfolio in 30 years. To do this, the tool will make an Alpaca API call via the Alpaca SDK to get historical price data for use in Monte Carlo simulations.\n",
    "\n",
    "You’ll use the information from the Monte Carlo simulation to answer questions about the portfolio in your Jupyter notebook.\n",
    "\n"
   ]
  },
  {
   "cell_type": "code",
   "execution_count": 281,
   "metadata": {},
   "outputs": [],
   "source": [
    "# Import the required libraries and dependencies\n",
    "import os\n",
    "import requests\n",
    "import json\n",
    "import pandas as pd\n",
    "from dotenv import load_dotenv\n",
    "import alpaca_trade_api as tradeapi\n",
    "from MCForecastTools import MCSimulation\n",
    "\n",
    "%matplotlib inline"
   ]
  },
  {
   "cell_type": "code",
   "execution_count": 282,
   "metadata": {},
   "outputs": [
    {
     "data": {
      "text/plain": [
       "True"
      ]
     },
     "execution_count": 282,
     "metadata": {},
     "output_type": "execute_result"
    }
   ],
   "source": [
    "# Load the environment variables from the .env file\n",
    "#by calling the load_dotenv function\n",
    "load_dotenv()"
   ]
  },
  {
   "cell_type": "markdown",
   "metadata": {},
   "source": [
    "## Part 1: Create a Financial Planner for Emergencies"
   ]
  },
  {
   "cell_type": "markdown",
   "metadata": {},
   "source": [
    "### Evaluate the Cryptocurrency Wallet by Using the Requests Library\n",
    "\n",
    "In this section, you’ll determine the current value of a member’s cryptocurrency wallet. You’ll collect the current prices for the Bitcoin and Ethereum cryptocurrencies by using the Python Requests library. For the prototype, you’ll assume that the member holds the 1.2 Bitcoins (BTC) and 5.3 Ethereum coins (ETH). To do all this, complete the following steps:\n",
    "\n",
    "1. Create a variable named `monthly_income`, and set its value to `12000`.\n",
    "\n",
    "2. Use the Requests library to get the current price (in US dollars) of Bitcoin (BTC) and Ethereum (ETH) by using the API endpoints that the starter code supplies.\n",
    "\n",
    "3. Navigate the JSON response object to access the current price of each coin, and store each in a variable.\n",
    "\n",
    "    > **Hint** Note the specific identifier for each cryptocurrency in the API JSON response. The Bitcoin identifier is `1`, and the Ethereum identifier is `1027`.\n",
    "\n",
    "4. Calculate the value, in US dollars, of the current amount of each cryptocurrency and of the entire cryptocurrency wallet.\n",
    "\n"
   ]
  },
  {
   "cell_type": "code",
   "execution_count": 283,
   "metadata": {},
   "outputs": [],
   "source": [
    "# The current number of coins for each cryptocurrency asset held in the portfolio.\n",
    "btc_coins = 1.2\n",
    "eth_coins = 5.3"
   ]
  },
  {
   "cell_type": "markdown",
   "metadata": {},
   "source": [
    "#### Step 1: Create a variable named `monthly_income`, and set its value to `12000`."
   ]
  },
  {
   "cell_type": "code",
   "execution_count": 284,
   "metadata": {},
   "outputs": [],
   "source": [
    "# The monthly amount for the member's household income\n",
    "monthly_income = 12000\n"
   ]
  },
  {
   "cell_type": "markdown",
   "metadata": {},
   "source": [
    "#### Review the endpoint URLs for the API calls to Free Crypto API in order to get the current pricing information for both BTC and ETH."
   ]
  },
  {
   "cell_type": "code",
   "execution_count": 285,
   "metadata": {},
   "outputs": [],
   "source": [
    "# The Free Crypto API Call endpoint URLs for the held cryptocurrency assets\n",
    "btc_url = \"https://api.alternative.me/v2/ticker/Bitcoin/?convert=USD\"\n",
    "eth_url = \"https://api.alternative.me/v2/ticker/Ethereum/?convert=USD\""
   ]
  },
  {
   "cell_type": "markdown",
   "metadata": {},
   "source": [
    "#### Step 2. Use the Requests library to get the current price (in US dollars) of Bitcoin (BTC) and Ethereum (ETH) by using the API endpoints that the starter code supplied."
   ]
  },
  {
   "cell_type": "code",
   "execution_count": 286,
   "metadata": {},
   "outputs": [
    {
     "name": "stdout",
     "output_type": "stream",
     "text": [
      "{\n",
      "   \"data\": {\n",
      "      \"1\": {\n",
      "         \"circulating_supply\": 18937343,\n",
      "         \"id\": 1,\n",
      "         \"last_updated\": 1642903422,\n",
      "         \"max_supply\": 21000000,\n",
      "         \"name\": \"Bitcoin\",\n",
      "         \"quotes\": {\n",
      "            \"USD\": {\n",
      "               \"market_cap\": 671194044865,\n",
      "               \"percent_change_1h\": -0.13632461581107,\n",
      "               \"percent_change_24h\": -3.13560563514185,\n",
      "               \"percent_change_7d\": -18.0548351251774,\n",
      "               \"percentage_change_1h\": -0.13632461581107,\n",
      "               \"percentage_change_24h\": -3.13560563514185,\n",
      "               \"percentage_change_7d\": -18.0548351251774,\n",
      "               \"price\": 35422.0,\n",
      "               \"volume_24h\": 34443490117\n",
      "            }\n",
      "         },\n",
      "         \"rank\": 1,\n",
      "         \"symbol\": \"BTC\",\n",
      "         \"total_supply\": 18937343,\n",
      "         \"website_slug\": \"bitcoin\"\n",
      "      }\n",
      "   },\n",
      "   \"metadata\": {\n",
      "      \"error\": null,\n",
      "      \"num_cryptocurrencies\": 3105,\n",
      "      \"timestamp\": 1642903422\n",
      "   }\n",
      "}\n"
     ]
    }
   ],
   "source": [
    "# Using the Python requests library, make an API call to access the current price of BTC\n",
    "btc_response = requests.get(btc_url).json()\n",
    "\n",
    "# Use the json.dumps function to review the response data from the API call\n",
    "# Use the indent and sort_keys parameters to make the response object readable\n",
    "print(json.dumps(btc_response, indent=3, sort_keys=True))"
   ]
  },
  {
   "cell_type": "code",
   "execution_count": 287,
   "metadata": {},
   "outputs": [
    {
     "name": "stdout",
     "output_type": "stream",
     "text": [
      "{\n",
      "   \"data\": {\n",
      "      \"1027\": {\n",
      "         \"circulating_supply\": 119272483,\n",
      "         \"id\": 1027,\n",
      "         \"last_updated\": 1642903425,\n",
      "         \"max_supply\": 0,\n",
      "         \"name\": \"Ethereum\",\n",
      "         \"quotes\": {\n",
      "            \"USD\": {\n",
      "               \"market_cap\": 292432706498,\n",
      "               \"percent_change_1h\": -0.0871988874772588,\n",
      "               \"percent_change_24h\": -6.21436270854627,\n",
      "               \"percent_change_7d\": -26.4320107607105,\n",
      "               \"percentage_change_1h\": -0.0871988874772588,\n",
      "               \"percentage_change_24h\": -6.21436270854627,\n",
      "               \"percentage_change_7d\": -26.4320107607105,\n",
      "               \"price\": 2450.73,\n",
      "               \"volume_24h\": 27245956199\n",
      "            }\n",
      "         },\n",
      "         \"rank\": 2,\n",
      "         \"symbol\": \"ETH\",\n",
      "         \"total_supply\": 119272483,\n",
      "         \"website_slug\": \"ethereum\"\n",
      "      }\n",
      "   },\n",
      "   \"metadata\": {\n",
      "      \"error\": null,\n",
      "      \"num_cryptocurrencies\": 3105,\n",
      "      \"timestamp\": 1642903425\n",
      "   }\n",
      "}\n"
     ]
    }
   ],
   "source": [
    "# Using the Python requests library, make an API call to access the current price ETH\n",
    "eth_response = requests.get(eth_url).json()\n",
    "\n",
    "# Use the json.dumps function to review the response data from the API call\n",
    "# Use the indent and sort_keys parameters to make the response object readable\n",
    "print(json.dumps(eth_response, indent=3, sort_keys=True))\n"
   ]
  },
  {
   "cell_type": "markdown",
   "metadata": {},
   "source": [
    "#### Step 3: Navigate the JSON response object to access the current price of each coin, and store each in a variable."
   ]
  },
  {
   "cell_type": "code",
   "execution_count": 288,
   "metadata": {},
   "outputs": [
    {
     "name": "stdout",
     "output_type": "stream",
     "text": [
      "The current price of Bitcoin is $35422.00\n"
     ]
    }
   ],
   "source": [
    "# Navigate the BTC response object to access the current price of BTC\n",
    "btc_price = btc_response[\"data\"][\"1\"][\"quotes\"][\"USD\"][\"price\"]\n",
    "\n",
    "# Print the current price of BTC\n",
    "print(f\"The current price of Bitcoin is ${btc_price:.2f}\")\n"
   ]
  },
  {
   "cell_type": "code",
   "execution_count": 289,
   "metadata": {},
   "outputs": [
    {
     "name": "stdout",
     "output_type": "stream",
     "text": [
      "The current price of Etherum is $2450.73\n"
     ]
    }
   ],
   "source": [
    "# Navigate the BTC response object to access the current price of ETH\n",
    "eth_price = eth_response[\"data\"][\"1027\"][\"quotes\"][\"USD\"][\"price\"]\n",
    "\n",
    "# Print the current price of ETH\n",
    "print(f\"The current price of Etherum is ${eth_price:.2f}\")\n"
   ]
  },
  {
   "cell_type": "markdown",
   "metadata": {},
   "source": [
    "### Step 4: Calculate the value, in US dollars, of the current amount of each cryptocurrency and of the entire cryptocurrency wallet."
   ]
  },
  {
   "cell_type": "code",
   "execution_count": 290,
   "metadata": {},
   "outputs": [
    {
     "name": "stdout",
     "output_type": "stream",
     "text": [
      "The current value of your Bitcoin is $35422.00\n"
     ]
    }
   ],
   "source": [
    "# Compute the current value of the BTC holding \n",
    "btc_value = btc_coins * btc_price\n",
    "\n",
    "# Print current value of your holding in BTC\n",
    "print(f\"The current value of your Bitcoin is ${btc_price:.2f}\")"
   ]
  },
  {
   "cell_type": "code",
   "execution_count": 291,
   "metadata": {},
   "outputs": [
    {
     "name": "stdout",
     "output_type": "stream",
     "text": [
      "The current value of your Bitcoin is $2450.73\n"
     ]
    }
   ],
   "source": [
    "# Compute the current value of the ETH holding \n",
    "eth_value = eth_coins * eth_price\n",
    "\n",
    "# Print current value of your holding in ETH\n",
    "print(f\"The current value of your Bitcoin is ${eth_price:.2f}\")\n"
   ]
  },
  {
   "cell_type": "code",
   "execution_count": 292,
   "metadata": {},
   "outputs": [
    {
     "name": "stdout",
     "output_type": "stream",
     "text": [
      "The current value of your cryptocurrency is $55495.27\n"
     ]
    }
   ],
   "source": [
    "# Compute the total value of the cryptocurrency wallet\n",
    "# Add the value of the BTC holding to the value of the ETH holding\n",
    "total_crypto_wallet = btc_value + eth_value\n",
    "\n",
    "# Print current cryptocurrency wallet balance\n",
    "print(f\"The current value of your cryptocurrency is ${total_crypto_wallet:.2f}\")\n"
   ]
  },
  {
   "cell_type": "markdown",
   "metadata": {},
   "source": [
    "### Evaluate the Stock and Bond Holdings by Using the Alpaca SDK\n",
    "\n",
    "In this section, you’ll determine the current value of a member’s stock and bond holdings. You’ll make an API call to Alpaca via the Alpaca SDK to get the current closing prices of the SPDR S&P 500 ETF Trust (ticker: SPY) and of the iShares Core US Aggregate Bond ETF (ticker: AGG). For the prototype, assume that the member holds 110 shares of SPY, which represents the stock portion of their portfolio, and 200 shares of AGG, which represents the bond portion. To do all this, complete the following steps:\n",
    "\n",
    "1. In the `Starter_Code` folder, create an environment file (`.env`) to store the values of your Alpaca API key and Alpaca secret key.\n",
    "\n",
    "2. Set the variables for the Alpaca API and secret keys. Using the Alpaca SDK, create the Alpaca `tradeapi.REST` object. In this object, include the parameters for the Alpaca API key, the secret key, and the version number.\n",
    "\n",
    "3. Set the following parameters for the Alpaca API call:\n",
    "\n",
    "    - `tickers`: Use the tickers for the member’s stock and bond holdings.\n",
    "\n",
    "    - `timeframe`: Use a time frame of one day.\n",
    "\n",
    "    - `start_date` and `end_date`: Use the same date for these parameters, and format them with the date of the previous weekday (or `2020-08-07`). This is because you want the one closing price for the most-recent trading day.\n",
    "\n",
    "4. Get the current closing prices for `SPY` and `AGG` by using the Alpaca `get_barset` function. Format the response as a Pandas DataFrame by including the `df` property at the end of the `get_barset` function.\n",
    "\n",
    "5. Navigating the Alpaca response DataFrame, select the `SPY` and `AGG` closing prices, and store them as variables.\n",
    "\n",
    "6. Calculate the value, in US dollars, of the current amount of shares in each of the stock and bond portions of the portfolio, and print the results.\n"
   ]
  },
  {
   "cell_type": "markdown",
   "metadata": {},
   "source": [
    "#### Review the total number of shares held in both (SPY) and (AGG)."
   ]
  },
  {
   "cell_type": "code",
   "execution_count": 293,
   "metadata": {},
   "outputs": [],
   "source": [
    "# Current amount of shares held in both the stock (SPY) and bond (AGG) portion of the portfolio.\n",
    "spy_shares = 110\n",
    "agg_shares = 200\n"
   ]
  },
  {
   "cell_type": "markdown",
   "metadata": {},
   "source": [
    "#### Step 1: In the `Starter_Code` folder, create an environment file (`.env`) to store the values of your Alpaca API key and Alpaca secret key."
   ]
  },
  {
   "cell_type": "markdown",
   "metadata": {},
   "source": [
    "#### Step 2: Set the variables for the Alpaca API and secret keys. Using the Alpaca SDK, create the Alpaca `tradeapi.REST` object. In this object, include the parameters for the Alpaca API key, the secret key, and the version number."
   ]
  },
  {
   "cell_type": "code",
   "execution_count": 294,
   "metadata": {},
   "outputs": [],
   "source": [
    "# Set the variables for the Alpaca API and secret keys\n",
    "alpaca_api_key = os.getenv(\"ALPACA_API_KEY\")\n",
    "alpaca_secret_key = os.getenv(\"ALPACA_SECRET_KEY\")\n",
    "\n",
    "# Create the Alpaca tradeapi.REST object\n",
    "alpaca = tradeapi.REST(\n",
    "    alpaca_api_key,\n",
    "    alpaca_secret_key,\n",
    "    api_version = \"v2\"\n",
    ")\n"
   ]
  },
  {
   "cell_type": "markdown",
   "metadata": {},
   "source": [
    "#### Step 3: Set the following parameters for the Alpaca API call:\n",
    "\n",
    "- `tickers`: Use the tickers for the member’s stock and bond holdings.\n",
    "\n",
    "- `timeframe`: Use a time frame of one day.\n",
    "\n",
    "- `start_date` and `end_date`: Use the same date for these parameters, and format them with the date of the previous weekday (or `2020-08-07`). This is because you want the one closing price for the most-recent trading day.\n"
   ]
  },
  {
   "cell_type": "code",
   "execution_count": 295,
   "metadata": {},
   "outputs": [],
   "source": [
    "# Set the tickers for both the bond and stock portion of the portfolio\n",
    "tickers = [\"SPY\", \"AGG\"]\n",
    "\n",
    "# Set timeframe to 1D \n",
    "timeframe = \"1D\"\n",
    "\n",
    "# Format current date as ISO format\n",
    "# Set both the start and end date at the date of your prior weekday \n",
    "# This will give you the closing price of the previous trading day\n",
    "# Alternatively you can use a start and end date of 2020-08-07\n",
    "start_date = pd.Timestamp(\"2020-08-07\", tz=\"America/New_York\").isoformat()\n",
    "end_date = pd.Timestamp(\"2020-08-07\", tz=\"America/New_York\").isoformat()\n"
   ]
  },
  {
   "cell_type": "markdown",
   "metadata": {},
   "source": [
    "#### Step 4: Get the current closing prices for `SPY` and `AGG` by using the Alpaca `get_barset` function. Format the response as a Pandas DataFrame by including the `df` property at the end of the `get_barset` function."
   ]
  },
  {
   "cell_type": "code",
   "execution_count": 296,
   "metadata": {},
   "outputs": [
    {
     "data": {
      "text/html": [
       "<div>\n",
       "<style scoped>\n",
       "    .dataframe tbody tr th:only-of-type {\n",
       "        vertical-align: middle;\n",
       "    }\n",
       "\n",
       "    .dataframe tbody tr th {\n",
       "        vertical-align: top;\n",
       "    }\n",
       "\n",
       "    .dataframe thead tr th {\n",
       "        text-align: left;\n",
       "    }\n",
       "\n",
       "    .dataframe thead tr:last-of-type th {\n",
       "        text-align: right;\n",
       "    }\n",
       "</style>\n",
       "<table border=\"1\" class=\"dataframe\">\n",
       "  <thead>\n",
       "    <tr>\n",
       "      <th></th>\n",
       "      <th colspan=\"5\" halign=\"left\">AGG</th>\n",
       "      <th colspan=\"5\" halign=\"left\">SPY</th>\n",
       "    </tr>\n",
       "    <tr>\n",
       "      <th></th>\n",
       "      <th>open</th>\n",
       "      <th>high</th>\n",
       "      <th>low</th>\n",
       "      <th>close</th>\n",
       "      <th>volume</th>\n",
       "      <th>open</th>\n",
       "      <th>high</th>\n",
       "      <th>low</th>\n",
       "      <th>close</th>\n",
       "      <th>volume</th>\n",
       "    </tr>\n",
       "    <tr>\n",
       "      <th>time</th>\n",
       "      <th></th>\n",
       "      <th></th>\n",
       "      <th></th>\n",
       "      <th></th>\n",
       "      <th></th>\n",
       "      <th></th>\n",
       "      <th></th>\n",
       "      <th></th>\n",
       "      <th></th>\n",
       "      <th></th>\n",
       "    </tr>\n",
       "  </thead>\n",
       "  <tbody>\n",
       "    <tr>\n",
       "      <th>2020-08-07 00:00:00-04:00</th>\n",
       "      <td>119.66</td>\n",
       "      <td>119.73</td>\n",
       "      <td>119.395</td>\n",
       "      <td>119.445</td>\n",
       "      <td>8830420</td>\n",
       "      <td>333.28</td>\n",
       "      <td>334.88</td>\n",
       "      <td>332.3</td>\n",
       "      <td>334.55</td>\n",
       "      <td>98710236</td>\n",
       "    </tr>\n",
       "  </tbody>\n",
       "</table>\n",
       "</div>"
      ],
      "text/plain": [
       "                              AGG                                        SPY  \\\n",
       "                             open    high      low    close   volume    open   \n",
       "time                                                                           \n",
       "2020-08-07 00:00:00-04:00  119.66  119.73  119.395  119.445  8830420  333.28   \n",
       "\n",
       "                                                            \n",
       "                             high    low   close    volume  \n",
       "time                                                        \n",
       "2020-08-07 00:00:00-04:00  334.88  332.3  334.55  98710236  "
      ]
     },
     "execution_count": 296,
     "metadata": {},
     "output_type": "execute_result"
    }
   ],
   "source": [
    "# Use the Alpaca get_barset function to get current closing prices the portfolio\n",
    "# Be sure to set the `df` property after the function to format the response object as a DataFrame\n",
    "prices_df = alpaca.get_barset(\n",
    "    tickers,\n",
    "    timeframe,\n",
    "    start = start_date,\n",
    "    end = end_date\n",
    ").df\n",
    "\n",
    "# Review the first 5 rows of the Alpaca DataFrame\n",
    "prices_df.head()"
   ]
  },
  {
   "cell_type": "markdown",
   "metadata": {},
   "source": [
    "#### Step 5: Navigating the Alpaca response DataFrame, select the `SPY` and `AGG` closing prices, and store them as variables."
   ]
  },
  {
   "cell_type": "code",
   "execution_count": 297,
   "metadata": {},
   "outputs": [
    {
     "name": "stdout",
     "output_type": "stream",
     "text": [
      "119.445\n"
     ]
    }
   ],
   "source": [
    "# Access the closing price for AGG from the Alpaca DataFrame\n",
    "# Converting the value to a floating point number\n",
    "agg_close_price = float(prices_df[\"AGG\"][\"close\"])\n",
    "\n",
    "# Print the AGG closing price\n",
    "print(agg_close_price)\n"
   ]
  },
  {
   "cell_type": "code",
   "execution_count": 298,
   "metadata": {},
   "outputs": [
    {
     "name": "stdout",
     "output_type": "stream",
     "text": [
      "334.55\n"
     ]
    }
   ],
   "source": [
    "# Access the closing price for SPY from the Alpaca DataFrame\n",
    "# Converting the value to a floating point number\n",
    "spy_close_price = float(prices_df[\"SPY\"][\"close\"])\n",
    "\n",
    "# Print the SPY closing price\n",
    "print(spy_close_price)\n"
   ]
  },
  {
   "cell_type": "markdown",
   "metadata": {},
   "source": [
    "#### Step 6: Calculate the value, in US dollars, of the current amount of shares in each of the stock and bond portions of the portfolio, and print the results."
   ]
  },
  {
   "cell_type": "code",
   "execution_count": 299,
   "metadata": {},
   "outputs": [
    {
     "name": "stdout",
     "output_type": "stream",
     "text": [
      "23889.0\n"
     ]
    }
   ],
   "source": [
    "# Calculate the current value of the bond portion of the portfolio\n",
    "agg_value = agg_close_price * agg_shares\n",
    "\n",
    "# Print the current value of the bond portfolio\n",
    "print(agg_value)\n"
   ]
  },
  {
   "cell_type": "code",
   "execution_count": 300,
   "metadata": {},
   "outputs": [
    {
     "name": "stdout",
     "output_type": "stream",
     "text": [
      "36800.5\n"
     ]
    }
   ],
   "source": [
    "# Calculate the current value of the stock portion of the portfolio\n",
    "spy_value = spy_close_price * spy_shares\n",
    "\n",
    "# Print the current value of the stock portfolio\n",
    "print(spy_value)\n"
   ]
  },
  {
   "cell_type": "code",
   "execution_count": 301,
   "metadata": {},
   "outputs": [
    {
     "name": "stdout",
     "output_type": "stream",
     "text": [
      "60689.5\n"
     ]
    }
   ],
   "source": [
    "# Calculate the total value of the stock and bond portion of the portfolio\n",
    "total_stocks_bonds = agg_value + spy_value\n",
    "\n",
    "# Print the current balance of the stock and bond portion of the portfolio\n",
    "print(total_stocks_bonds)\n"
   ]
  },
  {
   "cell_type": "code",
   "execution_count": 302,
   "metadata": {},
   "outputs": [
    {
     "name": "stdout",
     "output_type": "stream",
     "text": [
      "Cryptocurrency balance total is $55495.27.\n",
      "Total portfolio balance is $116184.77.\n"
     ]
    }
   ],
   "source": [
    "# Calculate the total value of the member's entire savings portfolio\n",
    "# Add the value of the cryptocurrency walled to the value of the total stocks and bonds\n",
    "total_portfolio = total_crypto_wallet + total_stocks_bonds\n",
    "\n",
    "# Print current cryptocurrency wallet balance\n",
    "print(f\"Cryptocurrency balance total is ${total_crypto_wallet:.2f}.\")\n",
    "\n",
    "# Did they want the total portfolio value as well maybe, typo maybe?  - Anthony Z.\n",
    "print(f\"Total portfolio balance is ${total_portfolio:.2f}.\")\n"
   ]
  },
  {
   "cell_type": "markdown",
   "metadata": {},
   "source": [
    "### Evaluate the Emergency Fund\n",
    "\n",
    "In this section, you’ll use the valuations for the cryptocurrency wallet and for the stock and bond portions of the portfolio to determine if the credit union member has enough savings to build an emergency fund into their financial plan. To do this, complete the following steps:\n",
    "\n",
    "1. Create a Python list named `savings_data` that has two elements. The first element contains the total value of the cryptocurrency wallet. The second element contains the total value of the stock and bond portions of the portfolio.\n",
    "\n",
    "2. Use the `savings_data` list to create a Pandas DataFrame named `savings_df`, and then display this DataFrame. The function to create the DataFrame should take the following three parameters:\n",
    "\n",
    "    - `savings_data`: Use the list that you just created.\n",
    "\n",
    "    - `columns`: Set this parameter equal to a Python list with a single value called `amount`.\n",
    "\n",
    "    - `index`: Set this parameter equal to a Python list with the values of `crypto` and `stock/bond`.\n",
    "\n",
    "3. Use the `savings_df` DataFrame to plot a pie chart that visualizes the composition of the member’s portfolio. The y-axis of the pie chart uses `amount`. Be sure to add a title.\n",
    "\n",
    "4. Using Python, determine if the current portfolio has enough to create an emergency fund as part of the member’s financial plan. Ideally, an emergency fund should equal to three times the member’s monthly income. To do this, implement the following steps:\n",
    "\n",
    "    1. Create a variable named `emergency_fund_value`, and set it equal to three times the value of the member’s `monthly_income` of $12000. (You set this earlier in Part 1).\n",
    "\n",
    "    2. Create a series of three if statements to determine if the member’s total portfolio is large enough to fund the emergency portfolio:\n",
    "\n",
    "        1. If the total portfolio value is greater than the emergency fund value, display a message congratulating the member for having enough money in this fund.\n",
    "\n",
    "        2. Else if the total portfolio value is equal to the emergency fund value, display a message congratulating the member on reaching this important financial goal.\n",
    "\n",
    "        3. Else the total portfolio is less than the emergency fund value, so display a message showing how many dollars away the member is from reaching the goal. (Subtract the total portfolio value from the emergency fund value.)\n"
   ]
  },
  {
   "cell_type": "markdown",
   "metadata": {},
   "source": [
    "#### Step 1: Create a Python list named `savings_data` that has two elements. The first element contains the total value of the cryptocurrency wallet. The second element contains the total value of the stock and bond portions of the portfolio."
   ]
  },
  {
   "cell_type": "code",
   "execution_count": 303,
   "metadata": {},
   "outputs": [
    {
     "data": {
      "text/plain": [
       "['Cryptocurrency Value', 'Stocks and Bonds Value']"
      ]
     },
     "execution_count": 303,
     "metadata": {},
     "output_type": "execute_result"
    }
   ],
   "source": [
    "# Consolidate financial assets data into a Python list\n",
    "savings_data = [\"Cryptocurrency Value\", \"Stocks and Bonds Value\"]\n",
    "\n",
    "# Review the Python list savings_data\n",
    "savings_data\n",
    "    "
   ]
  },
  {
   "cell_type": "markdown",
   "metadata": {},
   "source": [
    "#### Step 2: Use the `savings_data` list to create a Pandas DataFrame named `savings_df`, and then display this DataFrame. The function to create the DataFrame should take the following three parameters:\n",
    "\n",
    "- `savings_data`: Use the list that you just created.\n",
    "\n",
    "- `columns`: Set this parameter equal to a Python list with a single value called `amount`.\n",
    "\n",
    "- `index`: Set this parameter equal to a Python list with the values of `crypto` and `stock/bond`.\n"
   ]
  },
  {
   "cell_type": "code",
   "execution_count": 304,
   "metadata": {},
   "outputs": [
    {
     "data": {
      "text/html": [
       "<div>\n",
       "<style scoped>\n",
       "    .dataframe tbody tr th:only-of-type {\n",
       "        vertical-align: middle;\n",
       "    }\n",
       "\n",
       "    .dataframe tbody tr th {\n",
       "        vertical-align: top;\n",
       "    }\n",
       "\n",
       "    .dataframe thead th {\n",
       "        text-align: right;\n",
       "    }\n",
       "</style>\n",
       "<table border=\"1\" class=\"dataframe\">\n",
       "  <thead>\n",
       "    <tr style=\"text-align: right;\">\n",
       "      <th></th>\n",
       "      <th>Amount</th>\n",
       "    </tr>\n",
       "  </thead>\n",
       "  <tbody>\n",
       "    <tr>\n",
       "      <th>Cryptocurrency Value</th>\n",
       "      <td>55495.269</td>\n",
       "    </tr>\n",
       "    <tr>\n",
       "      <th>Stocks and Bonds Value</th>\n",
       "      <td>60689.500</td>\n",
       "    </tr>\n",
       "  </tbody>\n",
       "</table>\n",
       "</div>"
      ],
      "text/plain": [
       "                           Amount\n",
       "Cryptocurrency Value    55495.269\n",
       "Stocks and Bonds Value  60689.500"
      ]
     },
     "execution_count": 304,
     "metadata": {},
     "output_type": "execute_result"
    }
   ],
   "source": [
    "# Create a Pandas DataFrame called savings_df \n",
    "savings_df = pd.DataFrame(\n",
    "    {\"Amount\": [total_crypto_wallet, total_stocks_bonds]},\n",
    "    index= savings_data\n",
    ")\n",
    "\n",
    "# Display the savings_df DataFrame\n",
    "savings_df\n"
   ]
  },
  {
   "cell_type": "markdown",
   "metadata": {},
   "source": [
    "#### Step 3: Use the `savings_df` DataFrame to plot a pie chart that visualizes the composition of the member’s portfolio. The y-axis of the pie chart uses `amount`. Be sure to add a title."
   ]
  },
  {
   "cell_type": "code",
   "execution_count": 305,
   "metadata": {},
   "outputs": [
    {
     "data": {
      "text/plain": [
       "<AxesSubplot:title={'center':'Portfolio: Cryptocurrency and Stocks/Bonds Value'}, ylabel='Amount'>"
      ]
     },
     "execution_count": 305,
     "metadata": {},
     "output_type": "execute_result"
    },
    {
     "data": {
      "image/png": "[encoded data removed]",
      "text/plain": [
       "<Figure size 432x288 with 1 Axes>"
      ]
     },
     "metadata": {},
     "output_type": "display_data"
    }
   ],
   "source": [
    "# Plot the total value of the member's portfolio (crypto and stock/bond) in a pie chart\n",
    "savings_df.plot.pie(\n",
    "    y = \"Amount\",\n",
    "    title = \"Portfolio: Cryptocurrency and Stocks/Bonds Value\")\n"
   ]
  },
  {
   "cell_type": "markdown",
   "metadata": {},
   "source": [
    "#### Step 4: Using Python, determine if the current portfolio has enough to create an emergency fund as part of the member’s financial plan. Ideally, an emergency fund should equal to three times the member’s monthly income. To do this, implement the following steps:\n",
    "\n",
    "Step 1. Create a variable named `emergency_fund_value`, and set it equal to three times the value of the member’s `monthly_income` of 12000. (You set this earlier in Part 1).\n",
    "\n",
    "Step 2. Create a series of three if statements to determine if the member’s total portfolio is large enough to fund the emergency portfolio:\n",
    "\n",
    "* If the total portfolio value is greater than the emergency fund value, display a message congratulating the member for having enough money in this fund.\n",
    "\n",
    "* Else if the total portfolio value is equal to the emergency fund value, display a message congratulating the member on reaching this important financial goal.\n",
    "\n",
    "* Else the total portfolio is less than the emergency fund value, so display a message showing how many dollars away the member is from reaching the goal. (Subtract the total portfolio value from the emergency fund value.)\n"
   ]
  },
  {
   "cell_type": "markdown",
   "metadata": {},
   "source": [
    "##### Step 4-1: Create a variable named `emergency_fund_value`, and set it equal to three times the value of the member’s `monthly_income` of 12000. (You set this earlier in Part 1)."
   ]
  },
  {
   "cell_type": "code",
   "execution_count": 306,
   "metadata": {},
   "outputs": [
    {
     "data": {
      "text/plain": [
       "36000"
      ]
     },
     "execution_count": 306,
     "metadata": {},
     "output_type": "execute_result"
    }
   ],
   "source": [
    "# Create a variable named emergency_fund_value\n",
    "emergency_fund_value = monthly_income * 3\n",
    "emergency_fund_value\n"
   ]
  },
  {
   "cell_type": "markdown",
   "metadata": {},
   "source": [
    "##### Step 4-2: Create a series of three if statements to determine if the member’s total portfolio is large enough to fund the emergency portfolio:\n",
    "\n",
    "* If the total portfolio value is greater than the emergency fund value, display a message congratulating the member for having enough money in this fund.\n",
    "\n",
    "* Else if the total portfolio value is equal to the emergency fund value, display a message congratulating the member on reaching this important financial goal.\n",
    "\n",
    "* Else the total portfolio is less than the emergency fund value, so display a message showing how many dollars away the member is from reaching the goal. (Subtract the total portfolio value from the emergency fund value.)"
   ]
  },
  {
   "cell_type": "code",
   "execution_count": 307,
   "metadata": {},
   "outputs": [
    {
     "name": "stdout",
     "output_type": "stream",
     "text": [
      "Congratulations, you have plenty of money in this fund.\n"
     ]
    }
   ],
   "source": [
    "# Evaluate the possibility of creating an emergency fund with 3 conditions:\n",
    "if total_portfolio > emergency_fund_value:\n",
    "    print(\"Congratulations, you have plenty of money in this fund.\")\n",
    "elif total_portfolio == emergency_fund_value:\n",
    "    print(\"Congratulations, you have reached an important financial goal.\")\n",
    "elif total_portfolio < emergency_fund_value:\n",
    "    print(f\"Sorry, you will need ${emergency_fund_value-total_portfolio} to reach your goal of having emergency fund\")\n"
   ]
  },
  {
   "cell_type": "markdown",
   "metadata": {},
   "source": [
    "## Part 2: Create a Financial Planner for Retirement"
   ]
  },
  {
   "cell_type": "markdown",
   "metadata": {},
   "source": [
    "### Create the Monte Carlo Simulation\n",
    "\n",
    "In this section, you’ll use the MCForecastTools library to create a Monte Carlo simulation for the member’s savings portfolio. To do this, complete the following steps:\n",
    "\n",
    "1. Make an API call via the Alpaca SDK to get 3 years of historical closing prices for a traditional 60/40 portfolio split: 60% stocks (SPY) and 40% bonds (AGG).\n",
    "\n",
    "2. Run a Monte Carlo simulation of 500 samples and 30 years for the 60/40 portfolio, and then plot the results.The following image shows the overlay line plot resulting from a simulation with these characteristics. However, because a random number generator is used to run each live Monte Carlo simulation, your image will differ slightly from this exact image:\n",
    "\n",
    "![A screenshot depicts the resulting plot.](Images/5-4-monte-carlo-line-plot.png)\n",
    "\n",
    "3. Plot the probability distribution of the Monte Carlo simulation. Plot the probability distribution of the Monte Carlo simulation. The following image shows the histogram plot resulting from a simulation with these characteristics. However, because a random number generator is used to run each live Monte Carlo simulation, your image will differ slightly from this exact image:\n",
    "\n",
    "![A screenshot depicts the histogram plot.](Images/5-4-monte-carlo-histogram.png)\n",
    "\n",
    "4. Generate the summary statistics for the Monte Carlo simulation.\n",
    "\n"
   ]
  },
  {
   "cell_type": "markdown",
   "metadata": {},
   "source": [
    "#### Step 1: Make an API call via the Alpaca SDK to get 3 years of historical closing prices for a traditional 60/40 portfolio split: 60% stocks (SPY) and 40% bonds (AGG)."
   ]
  },
  {
   "cell_type": "code",
   "execution_count": 308,
   "metadata": {},
   "outputs": [],
   "source": [
    "# Set start and end dates of 3 years back from your current date\n",
    "# Alternatively, you can use an end date of 2020-08-07 and work 3 years back from that date \n",
    "start_date2 = pd.Timestamp(\"2017-08-07\", tz=\"America/New_York\").isoformat()\n",
    "\n",
    "\n",
    "\n",
    "# Set number of rows to 1000 to retrieve the maximum amount of rows\n",
    "rows = 1000"
   ]
  },
  {
   "cell_type": "code",
   "execution_count": 309,
   "metadata": {},
   "outputs": [
    {
     "data": {
      "text/html": [
       "<div>\n",
       "<style scoped>\n",
       "    .dataframe tbody tr th:only-of-type {\n",
       "        vertical-align: middle;\n",
       "    }\n",
       "\n",
       "    .dataframe tbody tr th {\n",
       "        vertical-align: top;\n",
       "    }\n",
       "\n",
       "    .dataframe thead tr th {\n",
       "        text-align: left;\n",
       "    }\n",
       "\n",
       "    .dataframe thead tr:last-of-type th {\n",
       "        text-align: right;\n",
       "    }\n",
       "</style>\n",
       "<table border=\"1\" class=\"dataframe\">\n",
       "  <thead>\n",
       "    <tr>\n",
       "      <th></th>\n",
       "      <th colspan=\"5\" halign=\"left\">AGG</th>\n",
       "      <th colspan=\"5\" halign=\"left\">SPY</th>\n",
       "    </tr>\n",
       "    <tr>\n",
       "      <th></th>\n",
       "      <th>open</th>\n",
       "      <th>high</th>\n",
       "      <th>low</th>\n",
       "      <th>close</th>\n",
       "      <th>volume</th>\n",
       "      <th>open</th>\n",
       "      <th>high</th>\n",
       "      <th>low</th>\n",
       "      <th>close</th>\n",
       "      <th>volume</th>\n",
       "    </tr>\n",
       "    <tr>\n",
       "      <th>time</th>\n",
       "      <th></th>\n",
       "      <th></th>\n",
       "      <th></th>\n",
       "      <th></th>\n",
       "      <th></th>\n",
       "      <th></th>\n",
       "      <th></th>\n",
       "      <th></th>\n",
       "      <th></th>\n",
       "      <th></th>\n",
       "    </tr>\n",
       "  </thead>\n",
       "  <tbody>\n",
       "    <tr>\n",
       "      <th>2020-03-18 00:00:00-04:00</th>\n",
       "      <td>109.36</td>\n",
       "      <td>110.5700</td>\n",
       "      <td>105.7707</td>\n",
       "      <td>106.33</td>\n",
       "      <td>30117292</td>\n",
       "      <td>236.25</td>\n",
       "      <td>248.3700</td>\n",
       "      <td>228.02</td>\n",
       "      <td>241.01</td>\n",
       "      <td>298252778</td>\n",
       "    </tr>\n",
       "    <tr>\n",
       "      <th>2020-03-19 00:00:00-04:00</th>\n",
       "      <td>106.47</td>\n",
       "      <td>109.2200</td>\n",
       "      <td>105.5600</td>\n",
       "      <td>108.97</td>\n",
       "      <td>21031320</td>\n",
       "      <td>239.25</td>\n",
       "      <td>247.3800</td>\n",
       "      <td>232.22</td>\n",
       "      <td>241.16</td>\n",
       "      <td>261233795</td>\n",
       "    </tr>\n",
       "    <tr>\n",
       "      <th>2020-03-20 00:00:00-04:00</th>\n",
       "      <td>108.46</td>\n",
       "      <td>110.2399</td>\n",
       "      <td>108.4600</td>\n",
       "      <td>109.49</td>\n",
       "      <td>28449412</td>\n",
       "      <td>242.53</td>\n",
       "      <td>244.4700</td>\n",
       "      <td>228.50</td>\n",
       "      <td>228.94</td>\n",
       "      <td>302880969</td>\n",
       "    </tr>\n",
       "    <tr>\n",
       "      <th>2020-03-23 00:00:00-04:00</th>\n",
       "      <td>109.90</td>\n",
       "      <td>112.9400</td>\n",
       "      <td>109.0000</td>\n",
       "      <td>112.55</td>\n",
       "      <td>23873510</td>\n",
       "      <td>228.19</td>\n",
       "      <td>229.6833</td>\n",
       "      <td>218.26</td>\n",
       "      <td>222.51</td>\n",
       "      <td>280560712</td>\n",
       "    </tr>\n",
       "    <tr>\n",
       "      <th>2020-03-24 00:00:00-04:00</th>\n",
       "      <td>111.52</td>\n",
       "      <td>113.5000</td>\n",
       "      <td>111.0754</td>\n",
       "      <td>113.29</td>\n",
       "      <td>18141498</td>\n",
       "      <td>234.42</td>\n",
       "      <td>244.1000</td>\n",
       "      <td>233.80</td>\n",
       "      <td>243.59</td>\n",
       "      <td>211595249</td>\n",
       "    </tr>\n",
       "  </tbody>\n",
       "</table>\n",
       "</div>"
      ],
      "text/plain": [
       "                              AGG                                        \\\n",
       "                             open      high       low   close    volume   \n",
       "time                                                                      \n",
       "2020-03-18 00:00:00-04:00  109.36  110.5700  105.7707  106.33  30117292   \n",
       "2020-03-19 00:00:00-04:00  106.47  109.2200  105.5600  108.97  21031320   \n",
       "2020-03-20 00:00:00-04:00  108.46  110.2399  108.4600  109.49  28449412   \n",
       "2020-03-23 00:00:00-04:00  109.90  112.9400  109.0000  112.55  23873510   \n",
       "2020-03-24 00:00:00-04:00  111.52  113.5000  111.0754  113.29  18141498   \n",
       "\n",
       "                              SPY                                       \n",
       "                             open      high     low   close     volume  \n",
       "time                                                                    \n",
       "2020-03-18 00:00:00-04:00  236.25  248.3700  228.02  241.01  298252778  \n",
       "2020-03-19 00:00:00-04:00  239.25  247.3800  232.22  241.16  261233795  \n",
       "2020-03-20 00:00:00-04:00  242.53  244.4700  228.50  228.94  302880969  \n",
       "2020-03-23 00:00:00-04:00  228.19  229.6833  218.26  222.51  280560712  \n",
       "2020-03-24 00:00:00-04:00  234.42  244.1000  233.80  243.59  211595249  "
      ]
     },
     "metadata": {},
     "output_type": "display_data"
    },
    {
     "data": {
      "text/html": [
       "<div>\n",
       "<style scoped>\n",
       "    .dataframe tbody tr th:only-of-type {\n",
       "        vertical-align: middle;\n",
       "    }\n",
       "\n",
       "    .dataframe tbody tr th {\n",
       "        vertical-align: top;\n",
       "    }\n",
       "\n",
       "    .dataframe thead tr th {\n",
       "        text-align: left;\n",
       "    }\n",
       "\n",
       "    .dataframe thead tr:last-of-type th {\n",
       "        text-align: right;\n",
       "    }\n",
       "</style>\n",
       "<table border=\"1\" class=\"dataframe\">\n",
       "  <thead>\n",
       "    <tr>\n",
       "      <th></th>\n",
       "      <th colspan=\"5\" halign=\"left\">AGG</th>\n",
       "      <th colspan=\"5\" halign=\"left\">SPY</th>\n",
       "    </tr>\n",
       "    <tr>\n",
       "      <th></th>\n",
       "      <th>open</th>\n",
       "      <th>high</th>\n",
       "      <th>low</th>\n",
       "      <th>close</th>\n",
       "      <th>volume</th>\n",
       "      <th>open</th>\n",
       "      <th>high</th>\n",
       "      <th>low</th>\n",
       "      <th>close</th>\n",
       "      <th>volume</th>\n",
       "    </tr>\n",
       "    <tr>\n",
       "      <th>time</th>\n",
       "      <th></th>\n",
       "      <th></th>\n",
       "      <th></th>\n",
       "      <th></th>\n",
       "      <th></th>\n",
       "      <th></th>\n",
       "      <th></th>\n",
       "      <th></th>\n",
       "      <th></th>\n",
       "      <th></th>\n",
       "    </tr>\n",
       "  </thead>\n",
       "  <tbody>\n",
       "    <tr>\n",
       "      <th>2020-08-03 00:00:00-04:00</th>\n",
       "      <td>119.37</td>\n",
       "      <td>119.40</td>\n",
       "      <td>119.1903</td>\n",
       "      <td>119.400</td>\n",
       "      <td>17837420</td>\n",
       "      <td>328.3200</td>\n",
       "      <td>329.62</td>\n",
       "      <td>327.73</td>\n",
       "      <td>328.76</td>\n",
       "      <td>71741125</td>\n",
       "    </tr>\n",
       "    <tr>\n",
       "      <th>2020-08-04 00:00:00-04:00</th>\n",
       "      <td>119.42</td>\n",
       "      <td>119.63</td>\n",
       "      <td>119.4200</td>\n",
       "      <td>119.630</td>\n",
       "      <td>21512268</td>\n",
       "      <td>327.8600</td>\n",
       "      <td>330.06</td>\n",
       "      <td>327.86</td>\n",
       "      <td>330.03</td>\n",
       "      <td>73684427</td>\n",
       "    </tr>\n",
       "    <tr>\n",
       "      <th>2020-08-05 00:00:00-04:00</th>\n",
       "      <td>119.39</td>\n",
       "      <td>119.49</td>\n",
       "      <td>119.3100</td>\n",
       "      <td>119.400</td>\n",
       "      <td>34175883</td>\n",
       "      <td>331.4700</td>\n",
       "      <td>332.39</td>\n",
       "      <td>331.18</td>\n",
       "      <td>332.06</td>\n",
       "      <td>72846458</td>\n",
       "    </tr>\n",
       "    <tr>\n",
       "      <th>2020-08-06 00:00:00-04:00</th>\n",
       "      <td>119.62</td>\n",
       "      <td>119.73</td>\n",
       "      <td>119.5300</td>\n",
       "      <td>119.580</td>\n",
       "      <td>9009216</td>\n",
       "      <td>331.4799</td>\n",
       "      <td>334.46</td>\n",
       "      <td>331.13</td>\n",
       "      <td>334.31</td>\n",
       "      <td>76900649</td>\n",
       "    </tr>\n",
       "    <tr>\n",
       "      <th>2020-08-07 00:00:00-04:00</th>\n",
       "      <td>119.66</td>\n",
       "      <td>119.73</td>\n",
       "      <td>119.3950</td>\n",
       "      <td>119.445</td>\n",
       "      <td>8830420</td>\n",
       "      <td>333.2800</td>\n",
       "      <td>334.88</td>\n",
       "      <td>332.30</td>\n",
       "      <td>334.55</td>\n",
       "      <td>98710236</td>\n",
       "    </tr>\n",
       "  </tbody>\n",
       "</table>\n",
       "</div>"
      ],
      "text/plain": [
       "                              AGG                                       \\\n",
       "                             open    high       low    close    volume   \n",
       "time                                                                     \n",
       "2020-08-03 00:00:00-04:00  119.37  119.40  119.1903  119.400  17837420   \n",
       "2020-08-04 00:00:00-04:00  119.42  119.63  119.4200  119.630  21512268   \n",
       "2020-08-05 00:00:00-04:00  119.39  119.49  119.3100  119.400  34175883   \n",
       "2020-08-06 00:00:00-04:00  119.62  119.73  119.5300  119.580   9009216   \n",
       "2020-08-07 00:00:00-04:00  119.66  119.73  119.3950  119.445   8830420   \n",
       "\n",
       "                                SPY                                    \n",
       "                               open    high     low   close    volume  \n",
       "time                                                                   \n",
       "2020-08-03 00:00:00-04:00  328.3200  329.62  327.73  328.76  71741125  \n",
       "2020-08-04 00:00:00-04:00  327.8600  330.06  327.86  330.03  73684427  \n",
       "2020-08-05 00:00:00-04:00  331.4700  332.39  331.18  332.06  72846458  \n",
       "2020-08-06 00:00:00-04:00  331.4799  334.46  331.13  334.31  76900649  \n",
       "2020-08-07 00:00:00-04:00  333.2800  334.88  332.30  334.55  98710236  "
      ]
     },
     "execution_count": 309,
     "metadata": {},
     "output_type": "execute_result"
    }
   ],
   "source": [
    "# Use the Alpaca get_barset function to make the API call to get the 3 years worth of pricing data\n",
    "# The tickers and timeframe parameters should have been set in Part 1 of this activity \n",
    "# The start and end dates should be updated with the information set above\n",
    "# Remember to add the df property to the end of the call so the response is returned as a DataFrame\n",
    "prices_df = alpaca.get_barset(\n",
    "    tickers,\n",
    "    timeframe,\n",
    "    start = start_date2,\n",
    "    end = end_date\n",
    ").df\n",
    "\n",
    "\n",
    "# Display both the first and last five rows of the DataFrame\n",
    "display(prices_df.head())\n",
    "prices_df.tail()\n",
    "\n"
   ]
  },
  {
   "cell_type": "markdown",
   "metadata": {},
   "source": [
    "#### Step 2: Run a Monte Carlo simulation of 500 samples and 30 years for the 60/40 portfolio, and then plot the results."
   ]
  },
  {
   "cell_type": "code",
   "execution_count": 310,
   "metadata": {},
   "outputs": [
    {
     "data": {
      "text/html": [
       "<div>\n",
       "<style scoped>\n",
       "    .dataframe tbody tr th:only-of-type {\n",
       "        vertical-align: middle;\n",
       "    }\n",
       "\n",
       "    .dataframe tbody tr th {\n",
       "        vertical-align: top;\n",
       "    }\n",
       "\n",
       "    .dataframe thead tr th {\n",
       "        text-align: left;\n",
       "    }\n",
       "\n",
       "    .dataframe thead tr:last-of-type th {\n",
       "        text-align: right;\n",
       "    }\n",
       "</style>\n",
       "<table border=\"1\" class=\"dataframe\">\n",
       "  <thead>\n",
       "    <tr>\n",
       "      <th></th>\n",
       "      <th colspan=\"6\" halign=\"left\">AGG</th>\n",
       "      <th colspan=\"6\" halign=\"left\">SPY</th>\n",
       "    </tr>\n",
       "    <tr>\n",
       "      <th></th>\n",
       "      <th>open</th>\n",
       "      <th>high</th>\n",
       "      <th>low</th>\n",
       "      <th>close</th>\n",
       "      <th>volume</th>\n",
       "      <th>daily_return</th>\n",
       "      <th>open</th>\n",
       "      <th>high</th>\n",
       "      <th>low</th>\n",
       "      <th>close</th>\n",
       "      <th>volume</th>\n",
       "      <th>daily_return</th>\n",
       "    </tr>\n",
       "    <tr>\n",
       "      <th>time</th>\n",
       "      <th></th>\n",
       "      <th></th>\n",
       "      <th></th>\n",
       "      <th></th>\n",
       "      <th></th>\n",
       "      <th></th>\n",
       "      <th></th>\n",
       "      <th></th>\n",
       "      <th></th>\n",
       "      <th></th>\n",
       "      <th></th>\n",
       "      <th></th>\n",
       "    </tr>\n",
       "  </thead>\n",
       "  <tbody>\n",
       "    <tr>\n",
       "      <th>2020-03-18 00:00:00-04:00</th>\n",
       "      <td>109.36</td>\n",
       "      <td>110.5700</td>\n",
       "      <td>105.7707</td>\n",
       "      <td>106.33</td>\n",
       "      <td>30117292</td>\n",
       "      <td>NaN</td>\n",
       "      <td>236.25</td>\n",
       "      <td>248.3700</td>\n",
       "      <td>228.02</td>\n",
       "      <td>241.01</td>\n",
       "      <td>298252778</td>\n",
       "      <td>NaN</td>\n",
       "    </tr>\n",
       "    <tr>\n",
       "      <th>2020-03-19 00:00:00-04:00</th>\n",
       "      <td>106.47</td>\n",
       "      <td>109.2200</td>\n",
       "      <td>105.5600</td>\n",
       "      <td>108.97</td>\n",
       "      <td>21031320</td>\n",
       "      <td>0.024828</td>\n",
       "      <td>239.25</td>\n",
       "      <td>247.3800</td>\n",
       "      <td>232.22</td>\n",
       "      <td>241.16</td>\n",
       "      <td>261233795</td>\n",
       "      <td>0.000622</td>\n",
       "    </tr>\n",
       "    <tr>\n",
       "      <th>2020-03-20 00:00:00-04:00</th>\n",
       "      <td>108.46</td>\n",
       "      <td>110.2399</td>\n",
       "      <td>108.4600</td>\n",
       "      <td>109.49</td>\n",
       "      <td>28449412</td>\n",
       "      <td>0.004772</td>\n",
       "      <td>242.53</td>\n",
       "      <td>244.4700</td>\n",
       "      <td>228.50</td>\n",
       "      <td>228.94</td>\n",
       "      <td>302880969</td>\n",
       "      <td>-0.050672</td>\n",
       "    </tr>\n",
       "    <tr>\n",
       "      <th>2020-03-23 00:00:00-04:00</th>\n",
       "      <td>109.90</td>\n",
       "      <td>112.9400</td>\n",
       "      <td>109.0000</td>\n",
       "      <td>112.55</td>\n",
       "      <td>23873510</td>\n",
       "      <td>0.027948</td>\n",
       "      <td>228.19</td>\n",
       "      <td>229.6833</td>\n",
       "      <td>218.26</td>\n",
       "      <td>222.51</td>\n",
       "      <td>280560712</td>\n",
       "      <td>-0.028086</td>\n",
       "    </tr>\n",
       "    <tr>\n",
       "      <th>2020-03-24 00:00:00-04:00</th>\n",
       "      <td>111.52</td>\n",
       "      <td>113.5000</td>\n",
       "      <td>111.0754</td>\n",
       "      <td>113.29</td>\n",
       "      <td>18141498</td>\n",
       "      <td>0.006575</td>\n",
       "      <td>234.42</td>\n",
       "      <td>244.1000</td>\n",
       "      <td>233.80</td>\n",
       "      <td>243.59</td>\n",
       "      <td>211595249</td>\n",
       "      <td>0.094737</td>\n",
       "    </tr>\n",
       "  </tbody>\n",
       "</table>\n",
       "</div>"
      ],
      "text/plain": [
       "                              AGG                                        \\\n",
       "                             open      high       low   close    volume   \n",
       "time                                                                      \n",
       "2020-03-18 00:00:00-04:00  109.36  110.5700  105.7707  106.33  30117292   \n",
       "2020-03-19 00:00:00-04:00  106.47  109.2200  105.5600  108.97  21031320   \n",
       "2020-03-20 00:00:00-04:00  108.46  110.2399  108.4600  109.49  28449412   \n",
       "2020-03-23 00:00:00-04:00  109.90  112.9400  109.0000  112.55  23873510   \n",
       "2020-03-24 00:00:00-04:00  111.52  113.5000  111.0754  113.29  18141498   \n",
       "\n",
       "                                           SPY                            \\\n",
       "                          daily_return    open      high     low   close   \n",
       "time                                                                       \n",
       "2020-03-18 00:00:00-04:00          NaN  236.25  248.3700  228.02  241.01   \n",
       "2020-03-19 00:00:00-04:00     0.024828  239.25  247.3800  232.22  241.16   \n",
       "2020-03-20 00:00:00-04:00     0.004772  242.53  244.4700  228.50  228.94   \n",
       "2020-03-23 00:00:00-04:00     0.027948  228.19  229.6833  218.26  222.51   \n",
       "2020-03-24 00:00:00-04:00     0.006575  234.42  244.1000  233.80  243.59   \n",
       "\n",
       "                                                   \n",
       "                              volume daily_return  \n",
       "time                                               \n",
       "2020-03-18 00:00:00-04:00  298252778          NaN  \n",
       "2020-03-19 00:00:00-04:00  261233795     0.000622  \n",
       "2020-03-20 00:00:00-04:00  302880969    -0.050672  \n",
       "2020-03-23 00:00:00-04:00  280560712    -0.028086  \n",
       "2020-03-24 00:00:00-04:00  211595249     0.094737  "
      ]
     },
     "execution_count": 310,
     "metadata": {},
     "output_type": "execute_result"
    }
   ],
   "source": [
    "# Configure the Monte Carlo simulation to forecast 30 years cumulative returns\n",
    "# The weights should be split 40% to AGG and 60% to SPY.\n",
    "# Run 500 samples.\n",
    "mc_sim = MCSimulation(\n",
    "    portfolio_data= prices_df,\n",
    "    weights=[.60,.40],\n",
    "    num_simulation= 500,\n",
    "    num_trading_days= 252 * 30\n",
    ")\n",
    "\n",
    "# Review the simulation input data\n",
    "mc_sim.portfolio_data.head()"
   ]
  },
  {
   "cell_type": "code",
   "execution_count": 311,
   "metadata": {},
   "outputs": [
    {
     "name": "stdout",
     "output_type": "stream",
     "text": [
      "Running Monte Carlo simulation number 0.\n",
      "Running Monte Carlo simulation number 10.\n",
      "Running Monte Carlo simulation number 20.\n",
      "Running Monte Carlo simulation number 30.\n",
      "Running Monte Carlo simulation number 40.\n",
      "Running Monte Carlo simulation number 50.\n",
      "Running Monte Carlo simulation number 60.\n",
      "Running Monte Carlo simulation number 70.\n",
      "Running Monte Carlo simulation number 80.\n",
      "Running Monte Carlo simulation number 90.\n",
      "Running Monte Carlo simulation number 100.\n"
     ]
    },
    {
     "name": "stderr",
     "output_type": "stream",
     "text": [
      "/Users/anthonyz/Desktop/FinTech-Workspace/Mod_5/Starter_Code/MCForecastTools.py:117: PerformanceWarning: DataFrame is highly fragmented.  This is usually the result of calling `frame.insert` many times, which has poor performance.  Consider joining all columns at once using pd.concat(axis=1) instead.  To get a de-fragmented frame, use `newframe = frame.copy()`\n",
      "  portfolio_cumulative_returns[n] = (1 + sim_df.fillna(0)).cumprod()\n"
     ]
    },
    {
     "name": "stdout",
     "output_type": "stream",
     "text": [
      "Running Monte Carlo simulation number 110.\n",
      "Running Monte Carlo simulation number 120.\n",
      "Running Monte Carlo simulation number 130.\n",
      "Running Monte Carlo simulation number 140.\n",
      "Running Monte Carlo simulation number 150.\n",
      "Running Monte Carlo simulation number 160.\n",
      "Running Monte Carlo simulation number 170.\n",
      "Running Monte Carlo simulation number 180.\n",
      "Running Monte Carlo simulation number 190.\n",
      "Running Monte Carlo simulation number 200.\n",
      "Running Monte Carlo simulation number 210.\n",
      "Running Monte Carlo simulation number 220.\n",
      "Running Monte Carlo simulation number 230.\n",
      "Running Monte Carlo simulation number 240.\n",
      "Running Monte Carlo simulation number 250.\n",
      "Running Monte Carlo simulation number 260.\n",
      "Running Monte Carlo simulation number 270.\n",
      "Running Monte Carlo simulation number 280.\n",
      "Running Monte Carlo simulation number 290.\n",
      "Running Monte Carlo simulation number 300.\n",
      "Running Monte Carlo simulation number 310.\n",
      "Running Monte Carlo simulation number 320.\n",
      "Running Monte Carlo simulation number 330.\n",
      "Running Monte Carlo simulation number 340.\n",
      "Running Monte Carlo simulation number 350.\n",
      "Running Monte Carlo simulation number 360.\n",
      "Running Monte Carlo simulation number 370.\n",
      "Running Monte Carlo simulation number 380.\n",
      "Running Monte Carlo simulation number 390.\n",
      "Running Monte Carlo simulation number 400.\n",
      "Running Monte Carlo simulation number 410.\n",
      "Running Monte Carlo simulation number 420.\n",
      "Running Monte Carlo simulation number 430.\n",
      "Running Monte Carlo simulation number 440.\n",
      "Running Monte Carlo simulation number 450.\n",
      "Running Monte Carlo simulation number 460.\n",
      "Running Monte Carlo simulation number 470.\n",
      "Running Monte Carlo simulation number 480.\n",
      "Running Monte Carlo simulation number 490.\n"
     ]
    },
    {
     "data": {
      "text/html": [
       "<div>\n",
       "<style scoped>\n",
       "    .dataframe tbody tr th:only-of-type {\n",
       "        vertical-align: middle;\n",
       "    }\n",
       "\n",
       "    .dataframe tbody tr th {\n",
       "        vertical-align: top;\n",
       "    }\n",
       "\n",
       "    .dataframe thead th {\n",
       "        text-align: right;\n",
       "    }\n",
       "</style>\n",
       "<table border=\"1\" class=\"dataframe\">\n",
       "  <thead>\n",
       "    <tr style=\"text-align: right;\">\n",
       "      <th></th>\n",
       "      <th>0</th>\n",
       "      <th>1</th>\n",
       "      <th>2</th>\n",
       "      <th>3</th>\n",
       "      <th>4</th>\n",
       "      <th>5</th>\n",
       "      <th>6</th>\n",
       "      <th>7</th>\n",
       "      <th>8</th>\n",
       "      <th>9</th>\n",
       "      <th>...</th>\n",
       "      <th>490</th>\n",
       "      <th>491</th>\n",
       "      <th>492</th>\n",
       "      <th>493</th>\n",
       "      <th>494</th>\n",
       "      <th>495</th>\n",
       "      <th>496</th>\n",
       "      <th>497</th>\n",
       "      <th>498</th>\n",
       "      <th>499</th>\n",
       "    </tr>\n",
       "  </thead>\n",
       "  <tbody>\n",
       "    <tr>\n",
       "      <th>0</th>\n",
       "      <td>1.000000e+00</td>\n",
       "      <td>1.000000e+00</td>\n",
       "      <td>1.000000e+00</td>\n",
       "      <td>1.000000e+00</td>\n",
       "      <td>1.000000e+00</td>\n",
       "      <td>1.000000e+00</td>\n",
       "      <td>1.000000e+00</td>\n",
       "      <td>1.000000e+00</td>\n",
       "      <td>1.000000e+00</td>\n",
       "      <td>1.000000e+00</td>\n",
       "      <td>...</td>\n",
       "      <td>1.000000e+00</td>\n",
       "      <td>1.000000e+00</td>\n",
       "      <td>1.000000e+00</td>\n",
       "      <td>1.000000e+00</td>\n",
       "      <td>1.000000e+00</td>\n",
       "      <td>1.000000e+00</td>\n",
       "      <td>1.000000e+00</td>\n",
       "      <td>1.000000e+00</td>\n",
       "      <td>1.000000e+00</td>\n",
       "      <td>1.000000e+00</td>\n",
       "    </tr>\n",
       "    <tr>\n",
       "      <th>1</th>\n",
       "      <td>1.005953e+00</td>\n",
       "      <td>1.002738e+00</td>\n",
       "      <td>9.945558e-01</td>\n",
       "      <td>9.985970e-01</td>\n",
       "      <td>1.021312e+00</td>\n",
       "      <td>1.001815e+00</td>\n",
       "      <td>1.008786e+00</td>\n",
       "      <td>1.012301e+00</td>\n",
       "      <td>1.010857e+00</td>\n",
       "      <td>1.013233e+00</td>\n",
       "      <td>...</td>\n",
       "      <td>1.012299e+00</td>\n",
       "      <td>9.928350e-01</td>\n",
       "      <td>9.967791e-01</td>\n",
       "      <td>9.975153e-01</td>\n",
       "      <td>9.943309e-01</td>\n",
       "      <td>9.945916e-01</td>\n",
       "      <td>1.002092e+00</td>\n",
       "      <td>1.004603e+00</td>\n",
       "      <td>1.018660e+00</td>\n",
       "      <td>9.961141e-01</td>\n",
       "    </tr>\n",
       "    <tr>\n",
       "      <th>2</th>\n",
       "      <td>1.000719e+00</td>\n",
       "      <td>9.872301e-01</td>\n",
       "      <td>9.949705e-01</td>\n",
       "      <td>1.001243e+00</td>\n",
       "      <td>1.022052e+00</td>\n",
       "      <td>1.009277e+00</td>\n",
       "      <td>1.008852e+00</td>\n",
       "      <td>1.015883e+00</td>\n",
       "      <td>1.008147e+00</td>\n",
       "      <td>1.015484e+00</td>\n",
       "      <td>...</td>\n",
       "      <td>1.008666e+00</td>\n",
       "      <td>9.986639e-01</td>\n",
       "      <td>1.006465e+00</td>\n",
       "      <td>1.000105e+00</td>\n",
       "      <td>9.947654e-01</td>\n",
       "      <td>1.009130e+00</td>\n",
       "      <td>1.014067e+00</td>\n",
       "      <td>1.007511e+00</td>\n",
       "      <td>1.016341e+00</td>\n",
       "      <td>9.723860e-01</td>\n",
       "    </tr>\n",
       "    <tr>\n",
       "      <th>3</th>\n",
       "      <td>1.006326e+00</td>\n",
       "      <td>9.901217e-01</td>\n",
       "      <td>9.974258e-01</td>\n",
       "      <td>1.017619e+00</td>\n",
       "      <td>1.012328e+00</td>\n",
       "      <td>1.014596e+00</td>\n",
       "      <td>1.011627e+00</td>\n",
       "      <td>1.022797e+00</td>\n",
       "      <td>1.018812e+00</td>\n",
       "      <td>1.014358e+00</td>\n",
       "      <td>...</td>\n",
       "      <td>9.993980e-01</td>\n",
       "      <td>1.000671e+00</td>\n",
       "      <td>9.994778e-01</td>\n",
       "      <td>9.974056e-01</td>\n",
       "      <td>1.000960e+00</td>\n",
       "      <td>1.001967e+00</td>\n",
       "      <td>9.987705e-01</td>\n",
       "      <td>1.006829e+00</td>\n",
       "      <td>1.013693e+00</td>\n",
       "      <td>9.665925e-01</td>\n",
       "    </tr>\n",
       "    <tr>\n",
       "      <th>4</th>\n",
       "      <td>9.986053e-01</td>\n",
       "      <td>9.887413e-01</td>\n",
       "      <td>9.995516e-01</td>\n",
       "      <td>1.033749e+00</td>\n",
       "      <td>1.012722e+00</td>\n",
       "      <td>1.029971e+00</td>\n",
       "      <td>1.020183e+00</td>\n",
       "      <td>1.025880e+00</td>\n",
       "      <td>1.027698e+00</td>\n",
       "      <td>1.001516e+00</td>\n",
       "      <td>...</td>\n",
       "      <td>1.019093e+00</td>\n",
       "      <td>1.016770e+00</td>\n",
       "      <td>1.021397e+00</td>\n",
       "      <td>1.003121e+00</td>\n",
       "      <td>1.001737e+00</td>\n",
       "      <td>9.991929e-01</td>\n",
       "      <td>1.005420e+00</td>\n",
       "      <td>1.014664e+00</td>\n",
       "      <td>1.014175e+00</td>\n",
       "      <td>9.745773e-01</td>\n",
       "    </tr>\n",
       "    <tr>\n",
       "      <th>...</th>\n",
       "      <td>...</td>\n",
       "      <td>...</td>\n",
       "      <td>...</td>\n",
       "      <td>...</td>\n",
       "      <td>...</td>\n",
       "      <td>...</td>\n",
       "      <td>...</td>\n",
       "      <td>...</td>\n",
       "      <td>...</td>\n",
       "      <td>...</td>\n",
       "      <td>...</td>\n",
       "      <td>...</td>\n",
       "      <td>...</td>\n",
       "      <td>...</td>\n",
       "      <td>...</td>\n",
       "      <td>...</td>\n",
       "      <td>...</td>\n",
       "      <td>...</td>\n",
       "      <td>...</td>\n",
       "      <td>...</td>\n",
       "      <td>...</td>\n",
       "    </tr>\n",
       "    <tr>\n",
       "      <th>7556</th>\n",
       "      <td>2.086023e+07</td>\n",
       "      <td>3.510209e+06</td>\n",
       "      <td>7.483900e+06</td>\n",
       "      <td>1.566707e+07</td>\n",
       "      <td>8.018125e+06</td>\n",
       "      <td>2.929772e+06</td>\n",
       "      <td>1.922689e+06</td>\n",
       "      <td>3.302021e+06</td>\n",
       "      <td>5.111907e+06</td>\n",
       "      <td>2.717483e+06</td>\n",
       "      <td>...</td>\n",
       "      <td>2.791298e+06</td>\n",
       "      <td>1.795699e+07</td>\n",
       "      <td>2.933131e+07</td>\n",
       "      <td>6.276390e+06</td>\n",
       "      <td>9.394089e+06</td>\n",
       "      <td>6.009836e+06</td>\n",
       "      <td>4.352426e+06</td>\n",
       "      <td>5.960688e+06</td>\n",
       "      <td>1.348950e+07</td>\n",
       "      <td>3.802445e+06</td>\n",
       "    </tr>\n",
       "    <tr>\n",
       "      <th>7557</th>\n",
       "      <td>2.049849e+07</td>\n",
       "      <td>3.548321e+06</td>\n",
       "      <td>7.615456e+06</td>\n",
       "      <td>1.592749e+07</td>\n",
       "      <td>8.152832e+06</td>\n",
       "      <td>2.934543e+06</td>\n",
       "      <td>1.947267e+06</td>\n",
       "      <td>3.304770e+06</td>\n",
       "      <td>5.165568e+06</td>\n",
       "      <td>2.712891e+06</td>\n",
       "      <td>...</td>\n",
       "      <td>2.797225e+06</td>\n",
       "      <td>1.784300e+07</td>\n",
       "      <td>2.944105e+07</td>\n",
       "      <td>6.280005e+06</td>\n",
       "      <td>9.458880e+06</td>\n",
       "      <td>6.017043e+06</td>\n",
       "      <td>4.349508e+06</td>\n",
       "      <td>5.976660e+06</td>\n",
       "      <td>1.356350e+07</td>\n",
       "      <td>3.807046e+06</td>\n",
       "    </tr>\n",
       "    <tr>\n",
       "      <th>7558</th>\n",
       "      <td>2.055041e+07</td>\n",
       "      <td>3.579562e+06</td>\n",
       "      <td>7.644873e+06</td>\n",
       "      <td>1.621067e+07</td>\n",
       "      <td>8.110036e+06</td>\n",
       "      <td>2.926843e+06</td>\n",
       "      <td>1.986116e+06</td>\n",
       "      <td>3.300767e+06</td>\n",
       "      <td>5.194153e+06</td>\n",
       "      <td>2.707853e+06</td>\n",
       "      <td>...</td>\n",
       "      <td>2.790492e+06</td>\n",
       "      <td>1.798817e+07</td>\n",
       "      <td>2.933143e+07</td>\n",
       "      <td>6.246728e+06</td>\n",
       "      <td>9.429880e+06</td>\n",
       "      <td>6.053840e+06</td>\n",
       "      <td>4.324057e+06</td>\n",
       "      <td>5.956743e+06</td>\n",
       "      <td>1.355674e+07</td>\n",
       "      <td>3.798806e+06</td>\n",
       "    </tr>\n",
       "    <tr>\n",
       "      <th>7559</th>\n",
       "      <td>2.050134e+07</td>\n",
       "      <td>3.617162e+06</td>\n",
       "      <td>7.666643e+06</td>\n",
       "      <td>1.605576e+07</td>\n",
       "      <td>8.168033e+06</td>\n",
       "      <td>2.894053e+06</td>\n",
       "      <td>2.020572e+06</td>\n",
       "      <td>3.295606e+06</td>\n",
       "      <td>5.249338e+06</td>\n",
       "      <td>2.720075e+06</td>\n",
       "      <td>...</td>\n",
       "      <td>2.749718e+06</td>\n",
       "      <td>1.763728e+07</td>\n",
       "      <td>2.961681e+07</td>\n",
       "      <td>6.194375e+06</td>\n",
       "      <td>9.369779e+06</td>\n",
       "      <td>6.018588e+06</td>\n",
       "      <td>4.309787e+06</td>\n",
       "      <td>5.930539e+06</td>\n",
       "      <td>1.367516e+07</td>\n",
       "      <td>3.806889e+06</td>\n",
       "    </tr>\n",
       "    <tr>\n",
       "      <th>7560</th>\n",
       "      <td>2.050221e+07</td>\n",
       "      <td>3.668553e+06</td>\n",
       "      <td>7.770744e+06</td>\n",
       "      <td>1.621829e+07</td>\n",
       "      <td>8.175779e+06</td>\n",
       "      <td>2.884575e+06</td>\n",
       "      <td>2.002042e+06</td>\n",
       "      <td>3.295883e+06</td>\n",
       "      <td>5.260943e+06</td>\n",
       "      <td>2.744016e+06</td>\n",
       "      <td>...</td>\n",
       "      <td>2.738836e+06</td>\n",
       "      <td>1.749665e+07</td>\n",
       "      <td>2.951512e+07</td>\n",
       "      <td>6.240623e+06</td>\n",
       "      <td>9.419239e+06</td>\n",
       "      <td>5.978440e+06</td>\n",
       "      <td>4.255612e+06</td>\n",
       "      <td>5.944402e+06</td>\n",
       "      <td>1.369597e+07</td>\n",
       "      <td>3.838189e+06</td>\n",
       "    </tr>\n",
       "  </tbody>\n",
       "</table>\n",
       "<p>7561 rows × 500 columns</p>\n",
       "</div>"
      ],
      "text/plain": [
       "               0             1             2             3             4    \\\n",
       "0     1.000000e+00  1.000000e+00  1.000000e+00  1.000000e+00  1.000000e+00   \n",
       "1     1.005953e+00  1.002738e+00  9.945558e-01  9.985970e-01  1.021312e+00   \n",
       "2     1.000719e+00  9.872301e-01  9.949705e-01  1.001243e+00  1.022052e+00   \n",
       "3     1.006326e+00  9.901217e-01  9.974258e-01  1.017619e+00  1.012328e+00   \n",
       "4     9.986053e-01  9.887413e-01  9.995516e-01  1.033749e+00  1.012722e+00   \n",
       "...            ...           ...           ...           ...           ...   \n",
       "7556  2.086023e+07  3.510209e+06  7.483900e+06  1.566707e+07  8.018125e+06   \n",
       "7557  2.049849e+07  3.548321e+06  7.615456e+06  1.592749e+07  8.152832e+06   \n",
       "7558  2.055041e+07  3.579562e+06  7.644873e+06  1.621067e+07  8.110036e+06   \n",
       "7559  2.050134e+07  3.617162e+06  7.666643e+06  1.605576e+07  8.168033e+06   \n",
       "7560  2.050221e+07  3.668553e+06  7.770744e+06  1.621829e+07  8.175779e+06   \n",
       "\n",
       "               5             6             7             8             9    \\\n",
       "0     1.000000e+00  1.000000e+00  1.000000e+00  1.000000e+00  1.000000e+00   \n",
       "1     1.001815e+00  1.008786e+00  1.012301e+00  1.010857e+00  1.013233e+00   \n",
       "2     1.009277e+00  1.008852e+00  1.015883e+00  1.008147e+00  1.015484e+00   \n",
       "3     1.014596e+00  1.011627e+00  1.022797e+00  1.018812e+00  1.014358e+00   \n",
       "4     1.029971e+00  1.020183e+00  1.025880e+00  1.027698e+00  1.001516e+00   \n",
       "...            ...           ...           ...           ...           ...   \n",
       "7556  2.929772e+06  1.922689e+06  3.302021e+06  5.111907e+06  2.717483e+06   \n",
       "7557  2.934543e+06  1.947267e+06  3.304770e+06  5.165568e+06  2.712891e+06   \n",
       "7558  2.926843e+06  1.986116e+06  3.300767e+06  5.194153e+06  2.707853e+06   \n",
       "7559  2.894053e+06  2.020572e+06  3.295606e+06  5.249338e+06  2.720075e+06   \n",
       "7560  2.884575e+06  2.002042e+06  3.295883e+06  5.260943e+06  2.744016e+06   \n",
       "\n",
       "      ...           490           491           492           493  \\\n",
       "0     ...  1.000000e+00  1.000000e+00  1.000000e+00  1.000000e+00   \n",
       "1     ...  1.012299e+00  9.928350e-01  9.967791e-01  9.975153e-01   \n",
       "2     ...  1.008666e+00  9.986639e-01  1.006465e+00  1.000105e+00   \n",
       "3     ...  9.993980e-01  1.000671e+00  9.994778e-01  9.974056e-01   \n",
       "4     ...  1.019093e+00  1.016770e+00  1.021397e+00  1.003121e+00   \n",
       "...   ...           ...           ...           ...           ...   \n",
       "7556  ...  2.791298e+06  1.795699e+07  2.933131e+07  6.276390e+06   \n",
       "7557  ...  2.797225e+06  1.784300e+07  2.944105e+07  6.280005e+06   \n",
       "7558  ...  2.790492e+06  1.798817e+07  2.933143e+07  6.246728e+06   \n",
       "7559  ...  2.749718e+06  1.763728e+07  2.961681e+07  6.194375e+06   \n",
       "7560  ...  2.738836e+06  1.749665e+07  2.951512e+07  6.240623e+06   \n",
       "\n",
       "               494           495           496           497           498  \\\n",
       "0     1.000000e+00  1.000000e+00  1.000000e+00  1.000000e+00  1.000000e+00   \n",
       "1     9.943309e-01  9.945916e-01  1.002092e+00  1.004603e+00  1.018660e+00   \n",
       "2     9.947654e-01  1.009130e+00  1.014067e+00  1.007511e+00  1.016341e+00   \n",
       "3     1.000960e+00  1.001967e+00  9.987705e-01  1.006829e+00  1.013693e+00   \n",
       "4     1.001737e+00  9.991929e-01  1.005420e+00  1.014664e+00  1.014175e+00   \n",
       "...            ...           ...           ...           ...           ...   \n",
       "7556  9.394089e+06  6.009836e+06  4.352426e+06  5.960688e+06  1.348950e+07   \n",
       "7557  9.458880e+06  6.017043e+06  4.349508e+06  5.976660e+06  1.356350e+07   \n",
       "7558  9.429880e+06  6.053840e+06  4.324057e+06  5.956743e+06  1.355674e+07   \n",
       "7559  9.369779e+06  6.018588e+06  4.309787e+06  5.930539e+06  1.367516e+07   \n",
       "7560  9.419239e+06  5.978440e+06  4.255612e+06  5.944402e+06  1.369597e+07   \n",
       "\n",
       "               499  \n",
       "0     1.000000e+00  \n",
       "1     9.961141e-01  \n",
       "2     9.723860e-01  \n",
       "3     9.665925e-01  \n",
       "4     9.745773e-01  \n",
       "...            ...  \n",
       "7556  3.802445e+06  \n",
       "7557  3.807046e+06  \n",
       "7558  3.798806e+06  \n",
       "7559  3.806889e+06  \n",
       "7560  3.838189e+06  \n",
       "\n",
       "[7561 rows x 500 columns]"
      ]
     },
     "execution_count": 311,
     "metadata": {},
     "output_type": "execute_result"
    }
   ],
   "source": [
    "# Run the Monte Carlo simulation to forecast 30 years cumulative returns\n",
    "mc_sim.calc_cumulative_return()"
   ]
  },
  {
   "cell_type": "code",
   "execution_count": 312,
   "metadata": {},
   "outputs": [
    {
     "data": {
      "image/png": "[encoded data removed]",
      "text/plain": [
       "<Figure size 432x288 with 1 Axes>"
      ]
     },
     "metadata": {
      "needs_background": "light"
     },
     "output_type": "display_data"
    }
   ],
   "source": [
    "# Visualize the 30-year Monte Carlo simulation by creating an\n",
    "# overlay line plot\n",
    "mc_sim_lineplot = mc_sim.plot_simulation()\n"
   ]
  },
  {
   "cell_type": "markdown",
   "metadata": {},
   "source": [
    "#### Step 3: Plot the probability distribution of the Monte Carlo simulation."
   ]
  },
  {
   "cell_type": "code",
   "execution_count": 313,
   "metadata": {},
   "outputs": [
    {
     "data": {
      "image/png": "[encoded data removed]",
      "text/plain": [
       "<Figure size 432x288 with 1 Axes>"
      ]
     },
     "metadata": {
      "needs_background": "light"
     },
     "output_type": "display_data"
    }
   ],
   "source": [
    "# Visualize the probability distribution of the 30-year Monte Carlo simulation \n",
    "# by plotting a histogram\n",
    "mc_sim_plotdist = mc_sim.plot_distribution()\n"
   ]
  },
  {
   "cell_type": "markdown",
   "metadata": {},
   "source": [
    "#### Step 4: Generate the summary statistics for the Monte Carlo simulation."
   ]
  },
  {
   "cell_type": "code",
   "execution_count": 314,
   "metadata": {},
   "outputs": [
    {
     "data": {
      "text/plain": [
       "count           5.000000e+02\n",
       "mean            9.847934e+06\n",
       "std             8.468745e+06\n",
       "min             2.917201e+05\n",
       "25%             4.244846e+06\n",
       "50%             7.607626e+06\n",
       "75%             1.283625e+07\n",
       "max             6.711017e+07\n",
       "95% CI Lower    1.427338e+06\n",
       "95% CI Upper    3.095345e+07\n",
       "Name: 7560, dtype: float64"
      ]
     },
     "execution_count": 314,
     "metadata": {},
     "output_type": "execute_result"
    }
   ],
   "source": [
    "# Generate summary statistics from the 30-year Monte Carlo simulation results\n",
    "# Save the results as a variable\n",
    "mc_sim_summary = mc_sim.summarize_cumulative_return()\n",
    "\n",
    "\n",
    "# Review the 30-year Monte Carlo summary statistics\n",
    "mc_sim_summary"
   ]
  },
  {
   "cell_type": "markdown",
   "metadata": {},
   "source": [
    "### Analyze the Retirement Portfolio Forecasts\n",
    "\n",
    "Using the current value of only the stock and bond portion of the member's portfolio and the summary statistics that you generated from the Monte Carlo simulation, answer the following question in your Jupyter notebook:\n",
    "\n",
    "-  What are the lower and upper bounds for the expected value of the portfolio with a 95% confidence interval?\n"
   ]
  },
  {
   "cell_type": "code",
   "execution_count": 315,
   "metadata": {},
   "outputs": [
    {
     "name": "stdout",
     "output_type": "stream",
     "text": [
      "The current balanc of the stock and bond portion of the members portfolio is $60689.50\n"
     ]
    }
   ],
   "source": [
    "# Print the current balance of the stock and bond portion of the members portfolio\n",
    "print(f\"The current balanc of the stock and bond portion of the members portfolio is ${total_stocks_bonds:.2f}\")\n"
   ]
  },
  {
   "cell_type": "code",
   "execution_count": 316,
   "metadata": {},
   "outputs": [
    {
     "name": "stdout",
     "output_type": "stream",
     "text": [
      "The lower `95%` confidence intervals to calculate the range of the possible outcomes for the current stocks and bonds portfolio is $86,624,457,726.46.\n",
      "While the upper `95%` confidence intervals to calculate the range of the possible outcomes for the current stocks and bond portfolio is $1,878,549,646,979.02\n"
     ]
    }
   ],
   "source": [
    "# Use the lower and upper `95%` confidence intervals to calculate the range of the possible outcomes for the current stock/bond portfolio\n",
    "ci_lower_thirty_cumulative_return = mc_sim_summary[8] * total_stocks_bonds\n",
    "ci_upper_thirty_cumulative_return = mc_sim_summary[9] * total_stocks_bonds\n",
    "\n",
    "# Print the result of your calculations\n",
    "print(f\"The lower `95%` confidence intervals to calculate the range of the possible outcomes for the current stocks and bonds portfolio is ${ci_lower_thirty_cumulative_return :,.2f}.\")\n",
    "print(f\"While the upper `95%` confidence intervals to calculate the range of the possible outcomes for the current stocks and bond portfolio is ${ci_upper_thirty_cumulative_return :,.2f}\")\n"
   ]
  },
  {
   "cell_type": "markdown",
   "metadata": {},
   "source": [
    "### Forecast Cumulative Returns in 10 Years\n",
    "\n",
    "The CTO of the credit union is impressed with your work on these planning tools but wonders if 30 years is a long time to wait until retirement. So, your next task is to adjust the retirement portfolio and run a new Monte Carlo simulation to find out if the changes will allow members to retire earlier.\n",
    "\n",
    "For this new Monte Carlo simulation, do the following: \n",
    "\n",
    "- Forecast the cumulative returns for 10 years from now. Because of the shortened investment horizon (30 years to 10 years), the portfolio needs to invest more heavily in the riskier asset&mdash;that is, stock&mdash;to help accumulate wealth for retirement. \n",
    "\n",
    "- Adjust the weights of the retirement portfolio so that the composition for the Monte Carlo simulation consists of 20% bonds and 80% stocks. \n",
    "\n",
    "- Run the simulation over 500 samples, and use the same data that the API call to Alpaca generated.\n",
    "\n",
    "- Based on the new Monte Carlo simulation, answer the following questions in your Jupyter notebook:\n",
    "\n",
    "    - Using the current value of only the stock and bond portion of the member's portfolio and the summary statistics that you generated from the new Monte Carlo simulation, what are the lower and upper bounds for the expected value of the portfolio (with the new weights) with a 95% confidence interval?\n",
    "\n",
    "    - Will weighting the portfolio more heavily toward stocks allow the credit union members to retire after only 10 years?\n"
   ]
  },
  {
   "cell_type": "code",
   "execution_count": 317,
   "metadata": {},
   "outputs": [
    {
     "data": {
      "text/html": [
       "<div>\n",
       "<style scoped>\n",
       "    .dataframe tbody tr th:only-of-type {\n",
       "        vertical-align: middle;\n",
       "    }\n",
       "\n",
       "    .dataframe tbody tr th {\n",
       "        vertical-align: top;\n",
       "    }\n",
       "\n",
       "    .dataframe thead tr th {\n",
       "        text-align: left;\n",
       "    }\n",
       "\n",
       "    .dataframe thead tr:last-of-type th {\n",
       "        text-align: right;\n",
       "    }\n",
       "</style>\n",
       "<table border=\"1\" class=\"dataframe\">\n",
       "  <thead>\n",
       "    <tr>\n",
       "      <th></th>\n",
       "      <th colspan=\"6\" halign=\"left\">AGG</th>\n",
       "      <th colspan=\"6\" halign=\"left\">SPY</th>\n",
       "    </tr>\n",
       "    <tr>\n",
       "      <th></th>\n",
       "      <th>open</th>\n",
       "      <th>high</th>\n",
       "      <th>low</th>\n",
       "      <th>close</th>\n",
       "      <th>volume</th>\n",
       "      <th>daily_return</th>\n",
       "      <th>open</th>\n",
       "      <th>high</th>\n",
       "      <th>low</th>\n",
       "      <th>close</th>\n",
       "      <th>volume</th>\n",
       "      <th>daily_return</th>\n",
       "    </tr>\n",
       "    <tr>\n",
       "      <th>time</th>\n",
       "      <th></th>\n",
       "      <th></th>\n",
       "      <th></th>\n",
       "      <th></th>\n",
       "      <th></th>\n",
       "      <th></th>\n",
       "      <th></th>\n",
       "      <th></th>\n",
       "      <th></th>\n",
       "      <th></th>\n",
       "      <th></th>\n",
       "      <th></th>\n",
       "    </tr>\n",
       "  </thead>\n",
       "  <tbody>\n",
       "    <tr>\n",
       "      <th>2020-03-18 00:00:00-04:00</th>\n",
       "      <td>109.36</td>\n",
       "      <td>110.5700</td>\n",
       "      <td>105.7707</td>\n",
       "      <td>106.33</td>\n",
       "      <td>30117292</td>\n",
       "      <td>NaN</td>\n",
       "      <td>236.25</td>\n",
       "      <td>248.3700</td>\n",
       "      <td>228.02</td>\n",
       "      <td>241.01</td>\n",
       "      <td>298252778</td>\n",
       "      <td>NaN</td>\n",
       "    </tr>\n",
       "    <tr>\n",
       "      <th>2020-03-19 00:00:00-04:00</th>\n",
       "      <td>106.47</td>\n",
       "      <td>109.2200</td>\n",
       "      <td>105.5600</td>\n",
       "      <td>108.97</td>\n",
       "      <td>21031320</td>\n",
       "      <td>0.024828</td>\n",
       "      <td>239.25</td>\n",
       "      <td>247.3800</td>\n",
       "      <td>232.22</td>\n",
       "      <td>241.16</td>\n",
       "      <td>261233795</td>\n",
       "      <td>0.000622</td>\n",
       "    </tr>\n",
       "    <tr>\n",
       "      <th>2020-03-20 00:00:00-04:00</th>\n",
       "      <td>108.46</td>\n",
       "      <td>110.2399</td>\n",
       "      <td>108.4600</td>\n",
       "      <td>109.49</td>\n",
       "      <td>28449412</td>\n",
       "      <td>0.004772</td>\n",
       "      <td>242.53</td>\n",
       "      <td>244.4700</td>\n",
       "      <td>228.50</td>\n",
       "      <td>228.94</td>\n",
       "      <td>302880969</td>\n",
       "      <td>-0.050672</td>\n",
       "    </tr>\n",
       "    <tr>\n",
       "      <th>2020-03-23 00:00:00-04:00</th>\n",
       "      <td>109.90</td>\n",
       "      <td>112.9400</td>\n",
       "      <td>109.0000</td>\n",
       "      <td>112.55</td>\n",
       "      <td>23873510</td>\n",
       "      <td>0.027948</td>\n",
       "      <td>228.19</td>\n",
       "      <td>229.6833</td>\n",
       "      <td>218.26</td>\n",
       "      <td>222.51</td>\n",
       "      <td>280560712</td>\n",
       "      <td>-0.028086</td>\n",
       "    </tr>\n",
       "    <tr>\n",
       "      <th>2020-03-24 00:00:00-04:00</th>\n",
       "      <td>111.52</td>\n",
       "      <td>113.5000</td>\n",
       "      <td>111.0754</td>\n",
       "      <td>113.29</td>\n",
       "      <td>18141498</td>\n",
       "      <td>0.006575</td>\n",
       "      <td>234.42</td>\n",
       "      <td>244.1000</td>\n",
       "      <td>233.80</td>\n",
       "      <td>243.59</td>\n",
       "      <td>211595249</td>\n",
       "      <td>0.094737</td>\n",
       "    </tr>\n",
       "  </tbody>\n",
       "</table>\n",
       "</div>"
      ],
      "text/plain": [
       "                              AGG                                        \\\n",
       "                             open      high       low   close    volume   \n",
       "time                                                                      \n",
       "2020-03-18 00:00:00-04:00  109.36  110.5700  105.7707  106.33  30117292   \n",
       "2020-03-19 00:00:00-04:00  106.47  109.2200  105.5600  108.97  21031320   \n",
       "2020-03-20 00:00:00-04:00  108.46  110.2399  108.4600  109.49  28449412   \n",
       "2020-03-23 00:00:00-04:00  109.90  112.9400  109.0000  112.55  23873510   \n",
       "2020-03-24 00:00:00-04:00  111.52  113.5000  111.0754  113.29  18141498   \n",
       "\n",
       "                                           SPY                            \\\n",
       "                          daily_return    open      high     low   close   \n",
       "time                                                                       \n",
       "2020-03-18 00:00:00-04:00          NaN  236.25  248.3700  228.02  241.01   \n",
       "2020-03-19 00:00:00-04:00     0.024828  239.25  247.3800  232.22  241.16   \n",
       "2020-03-20 00:00:00-04:00     0.004772  242.53  244.4700  228.50  228.94   \n",
       "2020-03-23 00:00:00-04:00     0.027948  228.19  229.6833  218.26  222.51   \n",
       "2020-03-24 00:00:00-04:00     0.006575  234.42  244.1000  233.80  243.59   \n",
       "\n",
       "                                                   \n",
       "                              volume daily_return  \n",
       "time                                               \n",
       "2020-03-18 00:00:00-04:00  298252778          NaN  \n",
       "2020-03-19 00:00:00-04:00  261233795     0.000622  \n",
       "2020-03-20 00:00:00-04:00  302880969    -0.050672  \n",
       "2020-03-23 00:00:00-04:00  280560712    -0.028086  \n",
       "2020-03-24 00:00:00-04:00  211595249     0.094737  "
      ]
     },
     "execution_count": 317,
     "metadata": {},
     "output_type": "execute_result"
    }
   ],
   "source": [
    "# Configure a Monte Carlo simulation to forecast 10 years cumulative returns\n",
    "# The weights should be split 20% to AGG and 80% to SPY.\n",
    "# Run 500 samples.\n",
    "mc_sim2 = MCSimulation(\n",
    "    portfolio_data= prices_df,\n",
    "    weights = [.20, .80],\n",
    "    num_simulation= 500,\n",
    "    num_trading_days= 252*10\n",
    ")\n",
    "\n",
    "# Review the simulation input data\n",
    "mc_sim2.portfolio_data.head()\n"
   ]
  },
  {
   "cell_type": "code",
   "execution_count": 318,
   "metadata": {},
   "outputs": [
    {
     "name": "stdout",
     "output_type": "stream",
     "text": [
      "Running Monte Carlo simulation number 0.\n",
      "Running Monte Carlo simulation number 10.\n",
      "Running Monte Carlo simulation number 20.\n",
      "Running Monte Carlo simulation number 30.\n",
      "Running Monte Carlo simulation number 40.\n",
      "Running Monte Carlo simulation number 50.\n",
      "Running Monte Carlo simulation number 60.\n",
      "Running Monte Carlo simulation number 70.\n",
      "Running Monte Carlo simulation number 80.\n",
      "Running Monte Carlo simulation number 90.\n",
      "Running Monte Carlo simulation number 100.\n"
     ]
    },
    {
     "name": "stderr",
     "output_type": "stream",
     "text": [
      "/Users/anthonyz/Desktop/FinTech-Workspace/Mod_5/Starter_Code/MCForecastTools.py:117: PerformanceWarning: DataFrame is highly fragmented.  This is usually the result of calling `frame.insert` many times, which has poor performance.  Consider joining all columns at once using pd.concat(axis=1) instead.  To get a de-fragmented frame, use `newframe = frame.copy()`\n",
      "  portfolio_cumulative_returns[n] = (1 + sim_df.fillna(0)).cumprod()\n"
     ]
    },
    {
     "name": "stdout",
     "output_type": "stream",
     "text": [
      "Running Monte Carlo simulation number 110.\n",
      "Running Monte Carlo simulation number 120.\n",
      "Running Monte Carlo simulation number 130.\n",
      "Running Monte Carlo simulation number 140.\n",
      "Running Monte Carlo simulation number 150.\n",
      "Running Monte Carlo simulation number 160.\n",
      "Running Monte Carlo simulation number 170.\n",
      "Running Monte Carlo simulation number 180.\n",
      "Running Monte Carlo simulation number 190.\n",
      "Running Monte Carlo simulation number 200.\n",
      "Running Monte Carlo simulation number 210.\n",
      "Running Monte Carlo simulation number 220.\n",
      "Running Monte Carlo simulation number 230.\n",
      "Running Monte Carlo simulation number 240.\n",
      "Running Monte Carlo simulation number 250.\n",
      "Running Monte Carlo simulation number 260.\n",
      "Running Monte Carlo simulation number 270.\n",
      "Running Monte Carlo simulation number 280.\n",
      "Running Monte Carlo simulation number 290.\n",
      "Running Monte Carlo simulation number 300.\n",
      "Running Monte Carlo simulation number 310.\n",
      "Running Monte Carlo simulation number 320.\n",
      "Running Monte Carlo simulation number 330.\n",
      "Running Monte Carlo simulation number 340.\n",
      "Running Monte Carlo simulation number 350.\n",
      "Running Monte Carlo simulation number 360.\n",
      "Running Monte Carlo simulation number 370.\n",
      "Running Monte Carlo simulation number 380.\n",
      "Running Monte Carlo simulation number 390.\n",
      "Running Monte Carlo simulation number 400.\n",
      "Running Monte Carlo simulation number 410.\n",
      "Running Monte Carlo simulation number 420.\n",
      "Running Monte Carlo simulation number 430.\n",
      "Running Monte Carlo simulation number 440.\n",
      "Running Monte Carlo simulation number 450.\n",
      "Running Monte Carlo simulation number 460.\n",
      "Running Monte Carlo simulation number 470.\n",
      "Running Monte Carlo simulation number 480.\n",
      "Running Monte Carlo simulation number 490.\n"
     ]
    },
    {
     "data": {
      "text/html": [
       "<div>\n",
       "<style scoped>\n",
       "    .dataframe tbody tr th:only-of-type {\n",
       "        vertical-align: middle;\n",
       "    }\n",
       "\n",
       "    .dataframe tbody tr th {\n",
       "        vertical-align: top;\n",
       "    }\n",
       "\n",
       "    .dataframe thead th {\n",
       "        text-align: right;\n",
       "    }\n",
       "</style>\n",
       "<table border=\"1\" class=\"dataframe\">\n",
       "  <thead>\n",
       "    <tr style=\"text-align: right;\">\n",
       "      <th></th>\n",
       "      <th>0</th>\n",
       "      <th>1</th>\n",
       "      <th>2</th>\n",
       "      <th>3</th>\n",
       "      <th>4</th>\n",
       "      <th>5</th>\n",
       "      <th>6</th>\n",
       "      <th>7</th>\n",
       "      <th>8</th>\n",
       "      <th>9</th>\n",
       "      <th>...</th>\n",
       "      <th>490</th>\n",
       "      <th>491</th>\n",
       "      <th>492</th>\n",
       "      <th>493</th>\n",
       "      <th>494</th>\n",
       "      <th>495</th>\n",
       "      <th>496</th>\n",
       "      <th>497</th>\n",
       "      <th>498</th>\n",
       "      <th>499</th>\n",
       "    </tr>\n",
       "  </thead>\n",
       "  <tbody>\n",
       "    <tr>\n",
       "      <th>0</th>\n",
       "      <td>1.000000</td>\n",
       "      <td>1.000000</td>\n",
       "      <td>1.000000</td>\n",
       "      <td>1.000000</td>\n",
       "      <td>1.000000</td>\n",
       "      <td>1.000000</td>\n",
       "      <td>1.000000</td>\n",
       "      <td>1.000000</td>\n",
       "      <td>1.000000</td>\n",
       "      <td>1.000000</td>\n",
       "      <td>...</td>\n",
       "      <td>1.000000</td>\n",
       "      <td>1.000000</td>\n",
       "      <td>1.000000</td>\n",
       "      <td>1.000000</td>\n",
       "      <td>1.000000</td>\n",
       "      <td>1.000000</td>\n",
       "      <td>1.000000</td>\n",
       "      <td>1.000000</td>\n",
       "      <td>1.000000</td>\n",
       "      <td>1.000000</td>\n",
       "    </tr>\n",
       "    <tr>\n",
       "      <th>1</th>\n",
       "      <td>0.988412</td>\n",
       "      <td>0.999443</td>\n",
       "      <td>1.013633</td>\n",
       "      <td>1.002553</td>\n",
       "      <td>1.005878</td>\n",
       "      <td>1.013984</td>\n",
       "      <td>1.000161</td>\n",
       "      <td>0.997011</td>\n",
       "      <td>0.968643</td>\n",
       "      <td>0.957556</td>\n",
       "      <td>...</td>\n",
       "      <td>1.023911</td>\n",
       "      <td>0.999645</td>\n",
       "      <td>0.974364</td>\n",
       "      <td>0.982852</td>\n",
       "      <td>1.016878</td>\n",
       "      <td>1.000309</td>\n",
       "      <td>1.001904</td>\n",
       "      <td>1.009083</td>\n",
       "      <td>1.010955</td>\n",
       "      <td>1.026468</td>\n",
       "    </tr>\n",
       "    <tr>\n",
       "      <th>2</th>\n",
       "      <td>1.017409</td>\n",
       "      <td>1.002023</td>\n",
       "      <td>1.000171</td>\n",
       "      <td>1.013848</td>\n",
       "      <td>1.000811</td>\n",
       "      <td>0.996004</td>\n",
       "      <td>0.999028</td>\n",
       "      <td>1.001138</td>\n",
       "      <td>0.987326</td>\n",
       "      <td>0.984873</td>\n",
       "      <td>...</td>\n",
       "      <td>1.016057</td>\n",
       "      <td>1.016397</td>\n",
       "      <td>0.981672</td>\n",
       "      <td>0.966413</td>\n",
       "      <td>1.018285</td>\n",
       "      <td>1.002127</td>\n",
       "      <td>1.016263</td>\n",
       "      <td>1.027402</td>\n",
       "      <td>0.993640</td>\n",
       "      <td>1.046762</td>\n",
       "    </tr>\n",
       "    <tr>\n",
       "      <th>3</th>\n",
       "      <td>1.012056</td>\n",
       "      <td>1.015741</td>\n",
       "      <td>1.000070</td>\n",
       "      <td>1.023374</td>\n",
       "      <td>0.990313</td>\n",
       "      <td>1.027633</td>\n",
       "      <td>1.005243</td>\n",
       "      <td>0.999390</td>\n",
       "      <td>0.985616</td>\n",
       "      <td>1.010304</td>\n",
       "      <td>...</td>\n",
       "      <td>1.012242</td>\n",
       "      <td>1.045370</td>\n",
       "      <td>0.976483</td>\n",
       "      <td>0.966608</td>\n",
       "      <td>1.001735</td>\n",
       "      <td>1.024968</td>\n",
       "      <td>0.998300</td>\n",
       "      <td>1.073557</td>\n",
       "      <td>0.967616</td>\n",
       "      <td>1.057159</td>\n",
       "    </tr>\n",
       "    <tr>\n",
       "      <th>4</th>\n",
       "      <td>1.030955</td>\n",
       "      <td>1.006892</td>\n",
       "      <td>0.981354</td>\n",
       "      <td>1.039805</td>\n",
       "      <td>0.981906</td>\n",
       "      <td>1.028686</td>\n",
       "      <td>0.988052</td>\n",
       "      <td>0.990057</td>\n",
       "      <td>0.992719</td>\n",
       "      <td>1.017595</td>\n",
       "      <td>...</td>\n",
       "      <td>1.038999</td>\n",
       "      <td>1.065485</td>\n",
       "      <td>0.988537</td>\n",
       "      <td>0.953115</td>\n",
       "      <td>1.017183</td>\n",
       "      <td>1.047700</td>\n",
       "      <td>1.004769</td>\n",
       "      <td>1.015309</td>\n",
       "      <td>0.981925</td>\n",
       "      <td>1.051629</td>\n",
       "    </tr>\n",
       "    <tr>\n",
       "      <th>...</th>\n",
       "      <td>...</td>\n",
       "      <td>...</td>\n",
       "      <td>...</td>\n",
       "      <td>...</td>\n",
       "      <td>...</td>\n",
       "      <td>...</td>\n",
       "      <td>...</td>\n",
       "      <td>...</td>\n",
       "      <td>...</td>\n",
       "      <td>...</td>\n",
       "      <td>...</td>\n",
       "      <td>...</td>\n",
       "      <td>...</td>\n",
       "      <td>...</td>\n",
       "      <td>...</td>\n",
       "      <td>...</td>\n",
       "      <td>...</td>\n",
       "      <td>...</td>\n",
       "      <td>...</td>\n",
       "      <td>...</td>\n",
       "      <td>...</td>\n",
       "    </tr>\n",
       "    <tr>\n",
       "      <th>2516</th>\n",
       "      <td>2111.060026</td>\n",
       "      <td>3181.726390</td>\n",
       "      <td>926.079859</td>\n",
       "      <td>2269.997813</td>\n",
       "      <td>778.595629</td>\n",
       "      <td>7625.790748</td>\n",
       "      <td>4123.733196</td>\n",
       "      <td>1518.852843</td>\n",
       "      <td>1665.471626</td>\n",
       "      <td>2845.496440</td>\n",
       "      <td>...</td>\n",
       "      <td>1893.185755</td>\n",
       "      <td>5425.383060</td>\n",
       "      <td>968.495605</td>\n",
       "      <td>861.625229</td>\n",
       "      <td>2205.064319</td>\n",
       "      <td>551.409615</td>\n",
       "      <td>2392.649617</td>\n",
       "      <td>1056.209618</td>\n",
       "      <td>719.615382</td>\n",
       "      <td>1921.251073</td>\n",
       "    </tr>\n",
       "    <tr>\n",
       "      <th>2517</th>\n",
       "      <td>2165.994866</td>\n",
       "      <td>3322.899495</td>\n",
       "      <td>917.855143</td>\n",
       "      <td>2258.079718</td>\n",
       "      <td>791.575250</td>\n",
       "      <td>7736.912374</td>\n",
       "      <td>4052.173890</td>\n",
       "      <td>1537.572114</td>\n",
       "      <td>1655.132801</td>\n",
       "      <td>2866.411553</td>\n",
       "      <td>...</td>\n",
       "      <td>1926.009285</td>\n",
       "      <td>5353.993293</td>\n",
       "      <td>983.181154</td>\n",
       "      <td>872.938481</td>\n",
       "      <td>2258.597900</td>\n",
       "      <td>563.431473</td>\n",
       "      <td>2406.752604</td>\n",
       "      <td>1052.659865</td>\n",
       "      <td>716.463100</td>\n",
       "      <td>1958.209394</td>\n",
       "    </tr>\n",
       "    <tr>\n",
       "      <th>2518</th>\n",
       "      <td>2170.537362</td>\n",
       "      <td>3297.317074</td>\n",
       "      <td>912.398573</td>\n",
       "      <td>2213.737648</td>\n",
       "      <td>760.589720</td>\n",
       "      <td>7771.486896</td>\n",
       "      <td>4088.478649</td>\n",
       "      <td>1590.017898</td>\n",
       "      <td>1675.399311</td>\n",
       "      <td>2861.535305</td>\n",
       "      <td>...</td>\n",
       "      <td>1853.590526</td>\n",
       "      <td>5277.753004</td>\n",
       "      <td>1014.038517</td>\n",
       "      <td>872.734872</td>\n",
       "      <td>2231.645133</td>\n",
       "      <td>563.527067</td>\n",
       "      <td>2399.481701</td>\n",
       "      <td>1057.760884</td>\n",
       "      <td>718.971053</td>\n",
       "      <td>1994.672845</td>\n",
       "    </tr>\n",
       "    <tr>\n",
       "      <th>2519</th>\n",
       "      <td>2225.151735</td>\n",
       "      <td>3290.684124</td>\n",
       "      <td>909.696831</td>\n",
       "      <td>2194.512410</td>\n",
       "      <td>736.909346</td>\n",
       "      <td>7944.786359</td>\n",
       "      <td>4266.440905</td>\n",
       "      <td>1575.667997</td>\n",
       "      <td>1690.682857</td>\n",
       "      <td>2916.190311</td>\n",
       "      <td>...</td>\n",
       "      <td>1857.189675</td>\n",
       "      <td>5335.611360</td>\n",
       "      <td>988.458489</td>\n",
       "      <td>886.440415</td>\n",
       "      <td>2200.433044</td>\n",
       "      <td>577.619784</td>\n",
       "      <td>2374.043733</td>\n",
       "      <td>1058.917374</td>\n",
       "      <td>717.330288</td>\n",
       "      <td>1996.379974</td>\n",
       "    </tr>\n",
       "    <tr>\n",
       "      <th>2520</th>\n",
       "      <td>2213.921268</td>\n",
       "      <td>3280.491485</td>\n",
       "      <td>890.291152</td>\n",
       "      <td>2182.492128</td>\n",
       "      <td>731.377011</td>\n",
       "      <td>8086.718407</td>\n",
       "      <td>4303.559868</td>\n",
       "      <td>1637.457951</td>\n",
       "      <td>1655.888075</td>\n",
       "      <td>2869.843656</td>\n",
       "      <td>...</td>\n",
       "      <td>1840.001895</td>\n",
       "      <td>5306.330251</td>\n",
       "      <td>980.229414</td>\n",
       "      <td>900.956702</td>\n",
       "      <td>2287.608911</td>\n",
       "      <td>586.184681</td>\n",
       "      <td>2342.568080</td>\n",
       "      <td>1059.654469</td>\n",
       "      <td>734.523828</td>\n",
       "      <td>2019.725222</td>\n",
       "    </tr>\n",
       "  </tbody>\n",
       "</table>\n",
       "<p>2521 rows × 500 columns</p>\n",
       "</div>"
      ],
      "text/plain": [
       "              0            1           2            3           4    \\\n",
       "0        1.000000     1.000000    1.000000     1.000000    1.000000   \n",
       "1        0.988412     0.999443    1.013633     1.002553    1.005878   \n",
       "2        1.017409     1.002023    1.000171     1.013848    1.000811   \n",
       "3        1.012056     1.015741    1.000070     1.023374    0.990313   \n",
       "4        1.030955     1.006892    0.981354     1.039805    0.981906   \n",
       "...           ...          ...         ...          ...         ...   \n",
       "2516  2111.060026  3181.726390  926.079859  2269.997813  778.595629   \n",
       "2517  2165.994866  3322.899495  917.855143  2258.079718  791.575250   \n",
       "2518  2170.537362  3297.317074  912.398573  2213.737648  760.589720   \n",
       "2519  2225.151735  3290.684124  909.696831  2194.512410  736.909346   \n",
       "2520  2213.921268  3280.491485  890.291152  2182.492128  731.377011   \n",
       "\n",
       "              5            6            7            8            9    ...  \\\n",
       "0        1.000000     1.000000     1.000000     1.000000     1.000000  ...   \n",
       "1        1.013984     1.000161     0.997011     0.968643     0.957556  ...   \n",
       "2        0.996004     0.999028     1.001138     0.987326     0.984873  ...   \n",
       "3        1.027633     1.005243     0.999390     0.985616     1.010304  ...   \n",
       "4        1.028686     0.988052     0.990057     0.992719     1.017595  ...   \n",
       "...           ...          ...          ...          ...          ...  ...   \n",
       "2516  7625.790748  4123.733196  1518.852843  1665.471626  2845.496440  ...   \n",
       "2517  7736.912374  4052.173890  1537.572114  1655.132801  2866.411553  ...   \n",
       "2518  7771.486896  4088.478649  1590.017898  1675.399311  2861.535305  ...   \n",
       "2519  7944.786359  4266.440905  1575.667997  1690.682857  2916.190311  ...   \n",
       "2520  8086.718407  4303.559868  1637.457951  1655.888075  2869.843656  ...   \n",
       "\n",
       "              490          491          492         493          494  \\\n",
       "0        1.000000     1.000000     1.000000    1.000000     1.000000   \n",
       "1        1.023911     0.999645     0.974364    0.982852     1.016878   \n",
       "2        1.016057     1.016397     0.981672    0.966413     1.018285   \n",
       "3        1.012242     1.045370     0.976483    0.966608     1.001735   \n",
       "4        1.038999     1.065485     0.988537    0.953115     1.017183   \n",
       "...           ...          ...          ...         ...          ...   \n",
       "2516  1893.185755  5425.383060   968.495605  861.625229  2205.064319   \n",
       "2517  1926.009285  5353.993293   983.181154  872.938481  2258.597900   \n",
       "2518  1853.590526  5277.753004  1014.038517  872.734872  2231.645133   \n",
       "2519  1857.189675  5335.611360   988.458489  886.440415  2200.433044   \n",
       "2520  1840.001895  5306.330251   980.229414  900.956702  2287.608911   \n",
       "\n",
       "             495          496          497         498          499  \n",
       "0       1.000000     1.000000     1.000000    1.000000     1.000000  \n",
       "1       1.000309     1.001904     1.009083    1.010955     1.026468  \n",
       "2       1.002127     1.016263     1.027402    0.993640     1.046762  \n",
       "3       1.024968     0.998300     1.073557    0.967616     1.057159  \n",
       "4       1.047700     1.004769     1.015309    0.981925     1.051629  \n",
       "...          ...          ...          ...         ...          ...  \n",
       "2516  551.409615  2392.649617  1056.209618  719.615382  1921.251073  \n",
       "2517  563.431473  2406.752604  1052.659865  716.463100  1958.209394  \n",
       "2518  563.527067  2399.481701  1057.760884  718.971053  1994.672845  \n",
       "2519  577.619784  2374.043733  1058.917374  717.330288  1996.379974  \n",
       "2520  586.184681  2342.568080  1059.654469  734.523828  2019.725222  \n",
       "\n",
       "[2521 rows x 500 columns]"
      ]
     },
     "execution_count": 318,
     "metadata": {},
     "output_type": "execute_result"
    }
   ],
   "source": [
    "# Run the Monte Carlo simulation to forecast 10 years cumulative returns\n",
    "mc_sim2.calc_cumulative_return()\n"
   ]
  },
  {
   "cell_type": "code",
   "execution_count": 319,
   "metadata": {},
   "outputs": [
    {
     "data": {
      "text/plain": [
       "<AxesSubplot:title={'center':'Distribution of Final Cumuluative Returns Across All 500 Simulations'}, ylabel='Frequency'>"
      ]
     },
     "execution_count": 319,
     "metadata": {},
     "output_type": "execute_result"
    },
    {
     "data": {
      "image/png": "[encoded data removed]",
      "text/plain": [
       "<Figure size 432x288 with 1 Axes>"
      ]
     },
     "metadata": {
      "needs_background": "light"
     },
     "output_type": "display_data"
    }
   ],
   "source": [
    "# Visualize the 10-year Monte Carlo simulation by creating an\n",
    "# overlay line plot\n",
    "mc_sim2.plot_distribution()\n"
   ]
  },
  {
   "cell_type": "code",
   "execution_count": 320,
   "metadata": {},
   "outputs": [
    {
     "data": {
      "text/plain": [
       "<AxesSubplot:title={'center':'500 Simulations of Cumulative Portfolio Return Trajectories Over the Next 2520 Trading Days.'}>"
      ]
     },
     "execution_count": 320,
     "metadata": {},
     "output_type": "execute_result"
    },
    {
     "data": {
      "image/png": "[encoded data removed]",
      "text/plain": [
       "<Figure size 432x288 with 1 Axes>"
      ]
     },
     "metadata": {
      "needs_background": "light"
     },
     "output_type": "display_data"
    }
   ],
   "source": [
    "# Visualize the probability distribution of the 10-year Monte Carlo simulation \n",
    "# by plotting a histogram\n",
    "mc_sim2.plot_simulation()\n"
   ]
  },
  {
   "cell_type": "code",
   "execution_count": 321,
   "metadata": {},
   "outputs": [
    {
     "name": "stdout",
     "output_type": "stream",
     "text": [
      "count             500.000000\n",
      "mean             2295.324161\n",
      "std              2111.943007\n",
      "min               129.047455\n",
      "25%               879.924668\n",
      "50%              1616.535918\n",
      "75%              2914.685518\n",
      "max             13669.157137\n",
      "95% CI Lower      346.883155\n",
      "95% CI Upper     8110.462541\n",
      "Name: 2520, dtype: float64\n"
     ]
    }
   ],
   "source": [
    "# Generate summary statistics from the 10-year Monte Carlo simulation results\n",
    "# Save the results as a variable\n",
    "mc_sim2_summary = mc_sim2.summarize_cumulative_return()\n",
    "\n",
    "\n",
    "# Review the 10-year Monte Carlo summary statistics\n",
    "print(mc_sim2_summary)"
   ]
  },
  {
   "cell_type": "markdown",
   "metadata": {},
   "source": [
    "### Answer the following questions:"
   ]
  },
  {
   "cell_type": "markdown",
   "metadata": {},
   "source": [
    "#### Question: Using the current value of only the stock and bond portion of the member's portfolio and the summary statistics that you generated from the new Monte Carlo simulation, what are the lower and upper bounds for the expected value of the portfolio (with the new weights) with a 95% confidence interval?"
   ]
  },
  {
   "cell_type": "code",
   "execution_count": 322,
   "metadata": {},
   "outputs": [
    {
     "name": "stdout",
     "output_type": "stream",
     "text": [
      "The current ballance of the stocks and bonds portfolio is $60689.50.\n"
     ]
    }
   ],
   "source": [
    "# Print the current balance of the stock and bond portion of the members portfolio\n",
    "print(f\"The current ballance of the stocks and bonds portfolio is ${total_stocks_bonds:.2f}.\")\n"
   ]
  },
  {
   "cell_type": "code",
   "execution_count": 323,
   "metadata": {},
   "outputs": [
    {
     "name": "stdout",
     "output_type": "stream",
     "text": [
      "The lower `95%` confidence intervals to calculate the range of the possible outcomes for the current stocks and bonds portfolio is $21,052,165.26.\n",
      "While the upper `95%` confidence intervals to calculate the range of the possible outcomes for the current stocks and bond portfolio is $492,219,916.37\n"
     ]
    }
   ],
   "source": [
    "# Use the lower and upper `95%` confidence intervals to calculate the range of the possible outcomes for the current stock/bond portfolio\n",
    "ci_lower_ten_cumulative_return = mc_sim2_summary[8] * total_stocks_bonds\n",
    "ci_upper_ten_cumulative_return = mc_sim2_summary[9] * total_stocks_bonds\n",
    "\n",
    "# Print the result of your calculations\n",
    "print(f\"The lower `95%` confidence intervals to calculate the range of the possible outcomes for the current stocks and bonds portfolio is ${ci_lower_ten_cumulative_return :,.2f}.\")\n",
    "print(f\"While the upper `95%` confidence intervals to calculate the range of the possible outcomes for the current stocks and bond portfolio is ${ci_upper_ten_cumulative_return :,.2f}\")"
   ]
  },
  {
   "cell_type": "markdown",
   "metadata": {},
   "source": [
    "#### Question: Will weighting the portfolio more heavily to stocks allow the credit union members to retire after only 10 years?"
   ]
  },
  {
   "cell_type": "raw",
   "metadata": {},
   "source": [
    "**Answer** So I had reviewed this multiple times to see where I might have gone astrey, I think its in the MCSimulation function but can't seem to see what might be wrong... Either way I think my numbers are off, asked for a review but understandably the TAs might not have had time to reveiw something from so long ago in terms of the modules... \n",
    "\n",
    "If the numbers are correct, then yes I'd say they would do great with a 80/20 split between stocks and bonds.  =) "
   ]
  },
  {
   "cell_type": "code",
   "execution_count": null,
   "metadata": {},
   "outputs": [],
   "source": []
  }
 ],
 "metadata": {
  "interpreter": {
   "hash": "411d3e6e3ddb9c8421bfbdb7d6a62ef47de2ff5d61e2ccdd1b41b3c4fe1ca707"
  },
  "kernelspec": {
   "display_name": "Python [conda env:blended]",
   "language": "python",
   "name": "python3"
  },
  "language_info": {
   "codemirror_mode": {
    "name": "ipython",
    "version": 3
   },
   "file_extension": ".py",
   "mimetype": "text/x-python",
   "name": "python",
   "nbconvert_exporter": "python",
   "pygments_lexer": "ipython3",
   "version": "3.7.10"
  }
 },
 "nbformat": 4,
 "nbformat_minor": 4
}
